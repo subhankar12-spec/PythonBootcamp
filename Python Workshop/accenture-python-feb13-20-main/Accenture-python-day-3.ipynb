{
 "cells": [
  {
   "cell_type": "code",
   "execution_count": 2,
   "id": "2de4e537",
   "metadata": {},
   "outputs": [
    {
     "name": "stdout",
     "output_type": "stream",
     "text": [
      "inside the except block\n"
     ]
    }
   ],
   "source": [
    "try:\n",
    "    # code for file opening\n",
    "    a=10/0\n",
    "    print(a)\n",
    "except TypeError:\n",
    "    print(\"inside the except block\")\n",
    "    # code for file closing\n",
    "else:\n",
    "    print(\"Inside the else block\")\n",
    "    # code for file closing"
   ]
  },
  {
   "cell_type": "code",
   "execution_count": 3,
   "id": "38a85947",
   "metadata": {},
   "outputs": [
    {
     "data": {
      "text/plain": [
       "'\\nTo execute any block of code which has to be mandatorily executed irrespecitive\\nof exception occured or not\\n\\nfile opening\\n\\n    \\n\\nfile closing\\n            \\n'"
      ]
     },
     "execution_count": 3,
     "metadata": {},
     "output_type": "execute_result"
    }
   ],
   "source": [
    "#finally\n",
    "\"\"\"\n",
    "To execute any block of code which has to be mandatorily executed irrespecitive\n",
    "of exception occured or not\n",
    "\n",
    "file opening\n",
    "\n",
    "    \n",
    "\n",
    "file closing\n",
    "            \n",
    "\"\"\""
   ]
  },
  {
   "cell_type": "code",
   "execution_count": 18,
   "id": "b1f0354b",
   "metadata": {},
   "outputs": [
    {
     "name": "stdout",
     "output_type": "stream",
     "text": [
      "10.0\n",
      "inside the general exception block\n",
      "Inside the finally block\n"
     ]
    }
   ],
   "source": [
    "try:\n",
    "    # code for file opening\n",
    "    a=10/1\n",
    "    b=[10,20]\n",
    "    print(a)\n",
    "    print(b[3])\n",
    "except TypeError:\n",
    "    print(\"inside the except block\")\n",
    "    # code for file closing\n",
    "except ZeroDivisionError:\n",
    "    print(\"Inside the zero division exception block\")\n",
    "except:\n",
    "    print(\"inside the general exception block\")\n",
    "finally:\n",
    "    print(\"Inside the finally block\")"
   ]
  },
  {
   "cell_type": "code",
   "execution_count": 21,
   "id": "c15945ac",
   "metadata": {},
   "outputs": [
    {
     "name": "stdout",
     "output_type": "stream",
     "text": [
      "Insid the zero division error block\n"
     ]
    }
   ],
   "source": [
    "try:\n",
    "    a =200\n",
    "    b = 10000\n",
    "    if a < b:\n",
    "        raise ZeroDivisionError\n",
    "    else:\n",
    "        raise TypeError\n",
    "except ZeroDivisionError:\n",
    "    print(\"Insid the zero division error block\")\n",
    "except TypeError:\n",
    "    print(\"Inside the type error block\")\n"
   ]
  },
  {
   "cell_type": "code",
   "execution_count": 29,
   "id": "7db15d2d",
   "metadata": {},
   "outputs": [],
   "source": [
    "class InvalidAgeException(Exception):\n",
    "    pass"
   ]
  },
  {
   "cell_type": "code",
   "execution_count": 31,
   "id": "74eccc8c",
   "metadata": {},
   "outputs": [
    {
     "name": "stdout",
     "output_type": "stream",
     "text": [
      "enter age-9\n",
      "Age cannot be either negative or more than 100\n"
     ]
    }
   ],
   "source": [
    "try:\n",
    "    age = int(input(\"enter age\"))\n",
    "    if age < 0 or age > 100:\n",
    "        raise InvalidAgeException\n",
    "    elif age >= 0 and age <=17:\n",
    "        print(\"Insufficient age to vote\")\n",
    "    else:\n",
    "        print(\"Eligible to vote\")\n",
    "except InvalidAgeException:\n",
    "    print(\"Age cannot be either negative or more than 100\")"
   ]
  },
  {
   "cell_type": "code",
   "execution_count": 1,
   "id": "f078dd02",
   "metadata": {},
   "outputs": [
    {
     "name": "stdout",
     "output_type": "stream",
     "text": [
      "['ai', 'ai']\n"
     ]
    }
   ],
   "source": [
    "import re\n",
    "\n",
    "txt = \"The rain in Spain\"\n",
    "x = re.findall(\"ai\", txt) \n",
    "print(x)"
   ]
  },
  {
   "cell_type": "code",
   "execution_count": 2,
   "id": "8b2be943",
   "metadata": {},
   "outputs": [],
   "source": [
    "y = re.findall(\"portugal\",txt)"
   ]
  },
  {
   "cell_type": "code",
   "execution_count": 3,
   "id": "ea1b346f",
   "metadata": {},
   "outputs": [
    {
     "data": {
      "text/plain": [
       "[]"
      ]
     },
     "execution_count": 3,
     "metadata": {},
     "output_type": "execute_result"
    }
   ],
   "source": [
    "y"
   ]
  },
  {
   "cell_type": "code",
   "execution_count": null,
   "id": "3a144837",
   "metadata": {},
   "outputs": [],
   "source": []
  },
  {
   "cell_type": "code",
   "execution_count": 4,
   "id": "6df07df4",
   "metadata": {},
   "outputs": [
    {
     "name": "stdout",
     "output_type": "stream",
     "text": [
      "Start Index: 7\n",
      "End Index: 13\n"
     ]
    }
   ],
   "source": [
    "s = 'python portal: A computer science portal for students'\n",
    "\n",
    "match = re.search(r'portal', s)\n",
    "\n",
    "print('Start Index:', match.start())\n",
    "print('End Index:', match.end())"
   ]
  },
  {
   "cell_type": "code",
   "execution_count": 14,
   "id": "187ffbbd",
   "metadata": {},
   "outputs": [
    {
     "name": "stdout",
     "output_type": "stream",
     "text": [
      "invalid string\n"
     ]
    }
   ],
   "source": [
    "pattern ='^[A-Z][a-z][0-9]{2}A_'\n",
    "match = re.search(pattern, \"Acc12Aaaa\")\n",
    "if match:\n",
    "    print(\"valid string\")\n",
    "else:\n",
    "    print(\"invalid string\")"
   ]
  },
  {
   "cell_type": "code",
   "execution_count": 16,
   "id": "b3e067d6",
   "metadata": {},
   "outputs": [
    {
     "name": "stdout",
     "output_type": "stream",
     "text": [
      "['The', '', '', 'rain', 'in', 'Spain']\n"
     ]
    }
   ],
   "source": [
    "txt = \"The   rain in Spain\"\n",
    "x = re.split(\"\\s\", txt)\n",
    "print(x)"
   ]
  },
  {
   "cell_type": "code",
   "execution_count": 17,
   "id": "8cf20c75",
   "metadata": {},
   "outputs": [
    {
     "name": "stdout",
     "output_type": "stream",
     "text": [
      "['The', 'rain in Spain']\n"
     ]
    }
   ],
   "source": [
    "txt = \"The rain in Spain\"\n",
    "x = re.split(\"\\s\", txt, 1)\n",
    "print(x)"
   ]
  },
  {
   "cell_type": "code",
   "execution_count": 23,
   "id": "7d511161",
   "metadata": {},
   "outputs": [
    {
     "name": "stdout",
     "output_type": "stream",
     "text": [
      "maine rain in Spain\n"
     ]
    }
   ],
   "source": [
    "txt = \"The rain in Spain\"\n",
    "x = re.sub(\"Th\", \"main\", txt)\n",
    "print(x)"
   ]
  },
  {
   "cell_type": "code",
   "execution_count": 49,
   "id": "f965a99a",
   "metadata": {},
   "outputs": [
    {
     "name": "stdout",
     "output_type": "stream",
     "text": [
      "The data rows  7\n",
      "The data columns 4\n",
      "The first column data\n",
      "praveen\n",
      "sai\n",
      "kumar\n",
      "balaji\n",
      "suresh\n",
      "The first row data\n",
      "praveen 80 78 79 "
     ]
    }
   ],
   "source": [
    "#Working with python excel using openpyxl\n",
    "import openpyxl\n",
    "path = \"d:\\\\Accenture\\\\data.xlsx\"\n",
    "wb_obj = openpyxl.load_workbook(path)\n",
    "sheet_obj = wb_obj.active\n",
    "\n",
    "maxrows = sheet_obj.max_row\n",
    "maxcolumns = sheet_obj.max_column\n",
    "print(\"The data rows \", maxrows)\n",
    "print(\"The data columns\",maxcolumns)\n",
    "\n",
    "print(\"The first column data\")\n",
    "for i in range(2,maxrows):\n",
    "    cell_obj = sheet_obj.cell(row = i, column = 1)\n",
    "    print(cell_obj.value)\n",
    "print(\"The first row data\")\n",
    "for i in range(1, maxcolumns + 1):\n",
    "    cell_obj = sheet_obj.cell(row = 2, column = i)\n",
    "    print(cell_obj.value, end = \" \")"
   ]
  },
  {
   "cell_type": "code",
   "execution_count": 50,
   "id": "642e3a6e",
   "metadata": {},
   "outputs": [
    {
     "name": "stdout",
     "output_type": "stream",
     "text": [
      "The workboo title:My Data\n",
      "Name m1  m2 m3 \n",
      "praveen 80 78 79 \n",
      "sai 65 87 56 \n",
      "kumar 55 48 65 \n",
      "balaji 78 65 71 \n",
      "suresh 49 64 58 \n",
      "kiran 39 32 20 \n"
     ]
    }
   ],
   "source": [
    "sheet_title = sheet_obj.title\n",
    "print(\"The workboo title:\"+sheet_title)\n",
    "\n",
    "for i in range(1,maxrows+1):\n",
    "    for j in range(1,maxcolumns+1):\n",
    "        cell_obj = sheet_obj.cell(row = i, column = j)\n",
    "        print(cell_obj.value, end=\" \")\n",
    "    print()"
   ]
  },
  {
   "cell_type": "code",
   "execution_count": 55,
   "id": "6094baf2",
   "metadata": {},
   "outputs": [
    {
     "name": "stdout",
     "output_type": "stream",
     "text": [
      "Data Written\n"
     ]
    }
   ],
   "source": [
    "wb = openpyxl.Workbook()\n",
    "sheet = wb.active\n",
    "cell_obj = sheet_obj.cell(row = 5, column = 5)\n",
    "cell_obj.value=\"sai\"\n",
    "wb.save(\"d://Accenture/Feb13-17/demowrite.xlsx\")\n",
    "print(\"Data Written\")"
   ]
  },
  {
   "cell_type": "code",
   "execution_count": 56,
   "id": "2d76791c",
   "metadata": {},
   "outputs": [
    {
     "name": "stdout",
     "output_type": "stream",
     "text": [
      "Data written\n"
     ]
    }
   ],
   "source": [
    "import openpyxl\n",
    "wb = openpyxl.Workbook()\n",
    "sheet = wb.active\n",
    "c1 = sheet.cell(row = 1, column = 1)\n",
    "c1.value = \"ANKIT\"\n",
    "c2 = sheet.cell(row= 1 , column = 2)\n",
    "c2.value = \"RAI\"\n",
    "c3 = sheet['A2']\n",
    "c3.value = \"RAHUL\"\n",
    "c4 = sheet['B2']\n",
    "c4.value = \"RAI\"\n",
    "wb.save(\"d://data/demowrite.xlsx\")\n",
    "print(\"Data written\")"
   ]
  },
  {
   "cell_type": "code",
   "execution_count": 57,
   "id": "2580768b",
   "metadata": {},
   "outputs": [
    {
     "name": "stdout",
     "output_type": "stream",
     "text": [
      "New sheet is added...\n"
     ]
    }
   ],
   "source": [
    "#wb = openpyxl.Workbook()\n",
    "wb.create_sheet(index = 1 , title = \"demo sheet2\")\n",
    "wb.save(\"d://data/demowrite.xlsx\")\n",
    "print(\"New sheet is added...\")"
   ]
  },
  {
   "cell_type": "code",
   "execution_count": 59,
   "id": "5c061e8a",
   "metadata": {},
   "outputs": [
    {
     "name": "stdout",
     "output_type": "stream",
     "text": [
      "Data written to excel sheet\n"
     ]
    }
   ],
   "source": [
    "#writing data to excel using xlsxwriter\n",
    "import xlsxwriter\n",
    "workbook = xlsxwriter.Workbook('d://data/Example2.xlsx')\n",
    "worksheet = workbook.add_worksheet()\n",
    "row = 0\n",
    "column = 0\n",
    "content = [\"ankit\", \"rahul\", \"priya\", \"harshita\",\n",
    "\t\t\t\t\t\"sumit\", \"neeraj\", \"shivam\"]\n",
    "for item in content :\n",
    "    worksheet.write(row, column, item)\n",
    "    column+= 1\n",
    "workbook.close()\n",
    "print(\"Data written to excel sheet\")"
   ]
  },
  {
   "cell_type": "code",
   "execution_count": null,
   "id": "ee97bb9c",
   "metadata": {},
   "outputs": [],
   "source": []
  }
 ],
 "metadata": {
  "kernelspec": {
   "display_name": "Python 3 (ipykernel)",
   "language": "python",
   "name": "python3"
  },
  "language_info": {
   "codemirror_mode": {
    "name": "ipython",
    "version": 3
   },
   "file_extension": ".py",
   "mimetype": "text/x-python",
   "name": "python",
   "nbconvert_exporter": "python",
   "pygments_lexer": "ipython3",
   "version": "3.9.13"
  }
 },
 "nbformat": 4,
 "nbformat_minor": 5
}
