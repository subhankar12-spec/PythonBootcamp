{
 "cells": [
  {
   "cell_type": "code",
   "execution_count": 1,
   "id": "2ea2d2a1",
   "metadata": {},
   "outputs": [],
   "source": [
    "def area(radius):\n",
    "\t\n",
    "\treturn 3.141*radius*radius\n",
    "\tprint(\"This is func first line\")\n",
    "\tprint(\"This is func second line\")\n",
    "\tprint(\"This is func third line\")"
   ]
  },
  {
   "cell_type": "code",
   "execution_count": 2,
   "id": "8743c18b",
   "metadata": {},
   "outputs": [
    {
     "name": "stdout",
     "output_type": "stream",
     "text": [
      "This is func first line\n",
      "This is func second line\n",
      "This is func third line\n"
     ]
    }
   ],
   "source": [
    "display()"
   ]
  },
  {
   "cell_type": "code",
   "execution_count": 3,
   "id": "be634e4b",
   "metadata": {},
   "outputs": [],
   "source": [
    "def area(radius):\n",
    "\t\n",
    "\treturn 3.141*radius*radius"
   ]
  },
  {
   "cell_type": "code",
   "execution_count": 4,
   "id": "c4a07c2b",
   "metadata": {},
   "outputs": [
    {
     "data": {
      "text/plain": [
       "28.269"
      ]
     },
     "execution_count": 4,
     "metadata": {},
     "output_type": "execute_result"
    }
   ],
   "source": [
    "area(3)"
   ]
  },
  {
   "cell_type": "code",
   "execution_count": 5,
   "id": "a82c3a9a",
   "metadata": {},
   "outputs": [
    {
     "data": {
      "text/plain": [
       "12.564"
      ]
     },
     "execution_count": 5,
     "metadata": {},
     "output_type": "execute_result"
    }
   ],
   "source": [
    "area(2)"
   ]
  },
  {
   "cell_type": "code",
   "execution_count": 7,
   "id": "709379a6",
   "metadata": {},
   "outputs": [],
   "source": [
    "def fact(n):\n",
    "\tf =1 \n",
    "\tif n == 0 or n == 1:\n",
    "\t\treturn 1\n",
    "\telif n < 0:\n",
    "\t\treturn -1\n",
    "\telse:\n",
    "\t\tfor i in range(1,n+1):\n",
    "\t\t\tf = f * i\n",
    "\t\treturn f"
   ]
  },
  {
   "cell_type": "code",
   "execution_count": 8,
   "id": "726d0422",
   "metadata": {},
   "outputs": [
    {
     "data": {
      "text/plain": [
       "6"
      ]
     },
     "execution_count": 8,
     "metadata": {},
     "output_type": "execute_result"
    }
   ],
   "source": [
    "fact(3)"
   ]
  },
  {
   "cell_type": "code",
   "execution_count": 9,
   "id": "c6c2bf92",
   "metadata": {},
   "outputs": [
    {
     "data": {
      "text/plain": [
       "120"
      ]
     },
     "execution_count": 9,
     "metadata": {},
     "output_type": "execute_result"
    }
   ],
   "source": [
    "fact(5)"
   ]
  },
  {
   "cell_type": "code",
   "execution_count": 10,
   "id": "669810ea",
   "metadata": {},
   "outputs": [
    {
     "data": {
      "text/plain": [
       "1"
      ]
     },
     "execution_count": 10,
     "metadata": {},
     "output_type": "execute_result"
    }
   ],
   "source": [
    "fact(1)"
   ]
  },
  {
   "cell_type": "code",
   "execution_count": 11,
   "id": "98d5f783",
   "metadata": {},
   "outputs": [
    {
     "data": {
      "text/plain": [
       "1"
      ]
     },
     "execution_count": 11,
     "metadata": {},
     "output_type": "execute_result"
    }
   ],
   "source": [
    "fact(0)"
   ]
  },
  {
   "cell_type": "code",
   "execution_count": 12,
   "id": "845dbf42",
   "metadata": {},
   "outputs": [
    {
     "data": {
      "text/plain": [
       "-1"
      ]
     },
     "execution_count": 12,
     "metadata": {},
     "output_type": "execute_result"
    }
   ],
   "source": [
    "fact(-10)"
   ]
  },
  {
   "cell_type": "code",
   "execution_count": 28,
   "id": "7cf5dbc8",
   "metadata": {},
   "outputs": [],
   "source": [
    "def rectangle(length,breadth=3):\n",
    "        print(\"length = \",length,\"breadth = \",breadth)\n",
    "        return length*breadth"
   ]
  },
  {
   "cell_type": "code",
   "execution_count": 21,
   "id": "2f3420d2",
   "metadata": {},
   "outputs": [
    {
     "name": "stdout",
     "output_type": "stream",
     "text": [
      "length =  10 breadth =  2\n"
     ]
    },
    {
     "data": {
      "text/plain": [
       "20"
      ]
     },
     "execution_count": 21,
     "metadata": {},
     "output_type": "execute_result"
    }
   ],
   "source": [
    "rectangle(10,2)"
   ]
  },
  {
   "cell_type": "code",
   "execution_count": 22,
   "id": "b833a12a",
   "metadata": {},
   "outputs": [
    {
     "name": "stdout",
     "output_type": "stream",
     "text": [
      "length =  2 breadth =  10\n"
     ]
    },
    {
     "data": {
      "text/plain": [
       "20"
      ]
     },
     "execution_count": 22,
     "metadata": {},
     "output_type": "execute_result"
    }
   ],
   "source": [
    "rectangle(2,10)"
   ]
  },
  {
   "cell_type": "code",
   "execution_count": 25,
   "id": "0054a313",
   "metadata": {},
   "outputs": [
    {
     "name": "stdout",
     "output_type": "stream",
     "text": [
      "length =  10 breadth =  2\n"
     ]
    },
    {
     "data": {
      "text/plain": [
       "20"
      ]
     },
     "execution_count": 25,
     "metadata": {},
     "output_type": "execute_result"
    }
   ],
   "source": [
    "rectangle(breadth=2, length=10)"
   ]
  },
  {
   "cell_type": "code",
   "execution_count": 26,
   "id": "4d3b28f5",
   "metadata": {},
   "outputs": [
    {
     "name": "stdout",
     "output_type": "stream",
     "text": [
      "length =  10 breadth =  20\n"
     ]
    },
    {
     "data": {
      "text/plain": [
       "200"
      ]
     },
     "execution_count": 26,
     "metadata": {},
     "output_type": "execute_result"
    }
   ],
   "source": [
    "rectangle(10,20)"
   ]
  },
  {
   "cell_type": "code",
   "execution_count": 29,
   "id": "e2102e41",
   "metadata": {},
   "outputs": [
    {
     "name": "stdout",
     "output_type": "stream",
     "text": [
      "length =  2 breadth =  3\n"
     ]
    },
    {
     "data": {
      "text/plain": [
       "6"
      ]
     },
     "execution_count": 29,
     "metadata": {},
     "output_type": "execute_result"
    }
   ],
   "source": [
    "rectangle(2)"
   ]
  },
  {
   "cell_type": "code",
   "execution_count": 30,
   "id": "ec2ffe43",
   "metadata": {},
   "outputs": [
    {
     "name": "stdout",
     "output_type": "stream",
     "text": [
      "length =  2 breadth =  4\n"
     ]
    },
    {
     "data": {
      "text/plain": [
       "8"
      ]
     },
     "execution_count": 30,
     "metadata": {},
     "output_type": "execute_result"
    }
   ],
   "source": [
    "rectangle(2,4)"
   ]
  },
  {
   "cell_type": "code",
   "execution_count": 31,
   "id": "d483aea0",
   "metadata": {},
   "outputs": [],
   "source": [
    "def sum2n(*n):\n",
    "\tsum=0;\n",
    "\tfor x in n:\n",
    "\t\tsum = sum +x\n",
    "\treturn sum"
   ]
  },
  {
   "cell_type": "code",
   "execution_count": 32,
   "id": "4bfb77ee",
   "metadata": {},
   "outputs": [
    {
     "data": {
      "text/plain": [
       "0"
      ]
     },
     "execution_count": 32,
     "metadata": {},
     "output_type": "execute_result"
    }
   ],
   "source": [
    "sum2n()"
   ]
  },
  {
   "cell_type": "code",
   "execution_count": 33,
   "id": "798bc32e",
   "metadata": {},
   "outputs": [
    {
     "data": {
      "text/plain": [
       "30"
      ]
     },
     "execution_count": 33,
     "metadata": {},
     "output_type": "execute_result"
    }
   ],
   "source": [
    "sum2n(10,20)"
   ]
  },
  {
   "cell_type": "code",
   "execution_count": 34,
   "id": "785b6cfa",
   "metadata": {},
   "outputs": [
    {
     "data": {
      "text/plain": [
       "10"
      ]
     },
     "execution_count": 34,
     "metadata": {},
     "output_type": "execute_result"
    }
   ],
   "source": [
    "sum2n(1,2,3,4)"
   ]
  },
  {
   "cell_type": "code",
   "execution_count": 37,
   "id": "9ca9c12f",
   "metadata": {},
   "outputs": [
    {
     "data": {
      "text/plain": [
       "41"
      ]
     },
     "execution_count": 37,
     "metadata": {},
     "output_type": "execute_result"
    }
   ],
   "source": [
    "sum2n(6,8,10,-1,7,11)"
   ]
  },
  {
   "cell_type": "code",
   "execution_count": 42,
   "id": "8988a5f4",
   "metadata": {},
   "outputs": [],
   "source": [
    "def listInd(a,b,c,d):\n",
    "    print(\"a= \",a,\"b = \",b,\"c = \",c,\"d = \",d)\n",
    "    return a+b+c+d"
   ]
  },
  {
   "cell_type": "code",
   "execution_count": 43,
   "id": "92574dac",
   "metadata": {},
   "outputs": [
    {
     "name": "stdout",
     "output_type": "stream",
     "text": [
      "a=  1 b =  2 c =  3 d =  4\n"
     ]
    },
    {
     "data": {
      "text/plain": [
       "10"
      ]
     },
     "execution_count": 43,
     "metadata": {},
     "output_type": "execute_result"
    }
   ],
   "source": [
    "l = [1,2,3,4]\n",
    "\n",
    "listInd(*l)"
   ]
  },
  {
   "cell_type": "code",
   "execution_count": 47,
   "id": "a38e4435",
   "metadata": {},
   "outputs": [
    {
     "ename": "TypeError",
     "evalue": "listInd() missing 1 required positional argument: 'd'",
     "output_type": "error",
     "traceback": [
      "\u001b[1;31m---------------------------------------------------------------------------\u001b[0m",
      "\u001b[1;31mTypeError\u001b[0m                                 Traceback (most recent call last)",
      "\u001b[1;32m~\\AppData\\Local\\Temp\\ipykernel_17668\\3173554009.py\u001b[0m in \u001b[0;36m<module>\u001b[1;34m\u001b[0m\n\u001b[0;32m      1\u001b[0m \u001b[0ml\u001b[0m \u001b[1;33m=\u001b[0m \u001b[1;33m[\u001b[0m\u001b[1;36m1\u001b[0m\u001b[1;33m,\u001b[0m\u001b[1;36m2\u001b[0m\u001b[1;33m,\u001b[0m\u001b[1;36m3\u001b[0m\u001b[1;33m]\u001b[0m\u001b[1;33m\u001b[0m\u001b[1;33m\u001b[0m\u001b[0m\n\u001b[1;32m----> 2\u001b[1;33m \u001b[0mlistInd\u001b[0m\u001b[1;33m(\u001b[0m\u001b[1;33m*\u001b[0m\u001b[0ml\u001b[0m\u001b[1;33m)\u001b[0m\u001b[1;33m\u001b[0m\u001b[1;33m\u001b[0m\u001b[0m\n\u001b[0m",
      "\u001b[1;31mTypeError\u001b[0m: listInd() missing 1 required positional argument: 'd'"
     ]
    }
   ],
   "source": [
    "l = [1,2,3]\n",
    "listInd(*l)"
   ]
  },
  {
   "cell_type": "code",
   "execution_count": 48,
   "id": "639becfc",
   "metadata": {},
   "outputs": [
    {
     "ename": "TypeError",
     "evalue": "listInd() takes 4 positional arguments but 5 were given",
     "output_type": "error",
     "traceback": [
      "\u001b[1;31m---------------------------------------------------------------------------\u001b[0m",
      "\u001b[1;31mTypeError\u001b[0m                                 Traceback (most recent call last)",
      "\u001b[1;32m~\\AppData\\Local\\Temp\\ipykernel_17668\\3024721292.py\u001b[0m in \u001b[0;36m<module>\u001b[1;34m\u001b[0m\n\u001b[0;32m      1\u001b[0m \u001b[0ml\u001b[0m \u001b[1;33m=\u001b[0m \u001b[1;33m[\u001b[0m\u001b[1;36m1\u001b[0m\u001b[1;33m,\u001b[0m\u001b[1;36m2\u001b[0m\u001b[1;33m,\u001b[0m\u001b[1;36m3\u001b[0m\u001b[1;33m,\u001b[0m\u001b[1;36m4\u001b[0m\u001b[1;33m,\u001b[0m\u001b[1;36m5\u001b[0m\u001b[1;33m]\u001b[0m\u001b[1;33m\u001b[0m\u001b[1;33m\u001b[0m\u001b[0m\n\u001b[1;32m----> 2\u001b[1;33m \u001b[0mlistInd\u001b[0m\u001b[1;33m(\u001b[0m\u001b[1;33m*\u001b[0m\u001b[0ml\u001b[0m\u001b[1;33m)\u001b[0m\u001b[1;33m\u001b[0m\u001b[1;33m\u001b[0m\u001b[0m\n\u001b[0m",
      "\u001b[1;31mTypeError\u001b[0m: listInd() takes 4 positional arguments but 5 were given"
     ]
    }
   ],
   "source": [
    "l = [1,2,3,4,5]\n",
    "listInd(*l)"
   ]
  },
  {
   "cell_type": "code",
   "execution_count": 49,
   "id": "1c795117",
   "metadata": {},
   "outputs": [],
   "source": [
    "fruits = [\"apple\", \"banana\", \"cherry\", \"kiwi\", \"mango\"]\n",
    "newlist = []"
   ]
  },
  {
   "cell_type": "code",
   "execution_count": 50,
   "id": "90bf1774",
   "metadata": {},
   "outputs": [],
   "source": [
    "for x in fruits:\n",
    "      if \"a\" in x:\n",
    "            newlist.append(x)"
   ]
  },
  {
   "cell_type": "code",
   "execution_count": 51,
   "id": "f476bb1f",
   "metadata": {},
   "outputs": [
    {
     "data": {
      "text/plain": [
       "['apple', 'banana', 'mango']"
      ]
     },
     "execution_count": 51,
     "metadata": {},
     "output_type": "execute_result"
    }
   ],
   "source": [
    "newlist"
   ]
  },
  {
   "cell_type": "code",
   "execution_count": 52,
   "id": "3a5dd328",
   "metadata": {},
   "outputs": [],
   "source": [
    "l1 =[x for x in fruits if \"a\" in x]"
   ]
  },
  {
   "cell_type": "code",
   "execution_count": 53,
   "id": "e53d6268",
   "metadata": {},
   "outputs": [
    {
     "data": {
      "text/plain": [
       "['apple', 'banana', 'mango']"
      ]
     },
     "execution_count": 53,
     "metadata": {},
     "output_type": "execute_result"
    }
   ],
   "source": [
    "l1"
   ]
  },
  {
   "cell_type": "code",
   "execution_count": 54,
   "id": "90ecd06b",
   "metadata": {},
   "outputs": [],
   "source": [
    "nos=[10,12,4,28,32,21,31]\n",
    "l2 =[x for x in nos if x%4 == 0]"
   ]
  },
  {
   "cell_type": "code",
   "execution_count": 56,
   "id": "e802eb18",
   "metadata": {},
   "outputs": [
    {
     "data": {
      "text/plain": [
       "[12, 4, 28, 32]"
      ]
     },
     "execution_count": 56,
     "metadata": {},
     "output_type": "execute_result"
    }
   ],
   "source": [
    "l2"
   ]
  },
  {
   "cell_type": "code",
   "execution_count": 57,
   "id": "731b044d",
   "metadata": {},
   "outputs": [],
   "source": [
    "add = lambda a,b:a+b"
   ]
  },
  {
   "cell_type": "code",
   "execution_count": 58,
   "id": "262fe762",
   "metadata": {},
   "outputs": [
    {
     "data": {
      "text/plain": [
       "50"
      ]
     },
     "execution_count": 58,
     "metadata": {},
     "output_type": "execute_result"
    }
   ],
   "source": [
    "add(30,20)"
   ]
  },
  {
   "cell_type": "code",
   "execution_count": 59,
   "id": "6993fd93",
   "metadata": {},
   "outputs": [
    {
     "data": {
      "text/plain": [
       "60"
      ]
     },
     "execution_count": 59,
     "metadata": {},
     "output_type": "execute_result"
    }
   ],
   "source": [
    "add(40,20)"
   ]
  },
  {
   "cell_type": "code",
   "execution_count": 60,
   "id": "3523ab7a",
   "metadata": {},
   "outputs": [],
   "source": [
    "a = 2 + 4j\n",
    "b = 3 + 3j"
   ]
  },
  {
   "cell_type": "code",
   "execution_count": 61,
   "id": "843df52f",
   "metadata": {},
   "outputs": [
    {
     "data": {
      "text/plain": [
       "(5+7j)"
      ]
     },
     "execution_count": 61,
     "metadata": {},
     "output_type": "execute_result"
    }
   ],
   "source": [
    "add(a,b)"
   ]
  },
  {
   "cell_type": "code",
   "execution_count": 62,
   "id": "9e650900",
   "metadata": {},
   "outputs": [
    {
     "data": {
      "text/plain": [
       "7"
      ]
     },
     "execution_count": 62,
     "metadata": {},
     "output_type": "execute_result"
    }
   ],
   "source": [
    "(lambda str: len(str))(\"Praveen\")"
   ]
  },
  {
   "cell_type": "code",
   "execution_count": 63,
   "id": "7fc0418a",
   "metadata": {},
   "outputs": [
    {
     "data": {
      "text/plain": [
       "500"
      ]
     },
     "execution_count": 63,
     "metadata": {},
     "output_type": "execute_result"
    }
   ],
   "source": [
    "(lambda a,b:a+b)(200,300)"
   ]
  },
  {
   "cell_type": "code",
   "execution_count": 64,
   "id": "711ec632",
   "metadata": {},
   "outputs": [],
   "source": [
    "big = lambda a,b : a if a>b else b"
   ]
  },
  {
   "cell_type": "code",
   "execution_count": 65,
   "id": "1a5661dc",
   "metadata": {},
   "outputs": [
    {
     "data": {
      "text/plain": [
       "2000"
      ]
     },
     "execution_count": 65,
     "metadata": {},
     "output_type": "execute_result"
    }
   ],
   "source": [
    "big(100,2000)"
   ]
  },
  {
   "cell_type": "code",
   "execution_count": 66,
   "id": "1cbb93b7",
   "metadata": {},
   "outputs": [
    {
     "data": {
      "text/plain": [
       "345"
      ]
     },
     "execution_count": 66,
     "metadata": {},
     "output_type": "execute_result"
    }
   ],
   "source": [
    "big(345,321)"
   ]
  },
  {
   "cell_type": "code",
   "execution_count": 70,
   "id": "5e26863e",
   "metadata": {},
   "outputs": [],
   "source": [
    "product= lambda x,y,z : x*(y+z)"
   ]
  },
  {
   "cell_type": "code",
   "execution_count": 71,
   "id": "dfa4822b",
   "metadata": {},
   "outputs": [
    {
     "data": {
      "text/plain": [
       "26"
      ]
     },
     "execution_count": 71,
     "metadata": {},
     "output_type": "execute_result"
    }
   ],
   "source": [
    "product(2,3,10)"
   ]
  },
  {
   "cell_type": "code",
   "execution_count": 72,
   "id": "17b7e508",
   "metadata": {},
   "outputs": [
    {
     "data": {
      "text/plain": [
       "50"
      ]
     },
     "execution_count": 72,
     "metadata": {},
     "output_type": "execute_result"
    }
   ],
   "source": [
    "product(10,2,3)"
   ]
  },
  {
   "cell_type": "code",
   "execution_count": 73,
   "id": "fb5d7333",
   "metadata": {},
   "outputs": [
    {
     "data": {
      "text/plain": [
       "26"
      ]
     },
     "execution_count": 73,
     "metadata": {},
     "output_type": "execute_result"
    }
   ],
   "source": [
    "product(z=10,x=2,y=3)"
   ]
  },
  {
   "cell_type": "code",
   "execution_count": 74,
   "id": "9710eeb7",
   "metadata": {},
   "outputs": [],
   "source": [
    "addition =lambda *args : sum(args)"
   ]
  },
  {
   "cell_type": "code",
   "execution_count": 75,
   "id": "c44b3778",
   "metadata": {},
   "outputs": [
    {
     "data": {
      "text/plain": [
       "0"
      ]
     },
     "execution_count": 75,
     "metadata": {},
     "output_type": "execute_result"
    }
   ],
   "source": [
    "addition()"
   ]
  },
  {
   "cell_type": "code",
   "execution_count": 76,
   "id": "df66ed32",
   "metadata": {},
   "outputs": [
    {
     "data": {
      "text/plain": [
       "30"
      ]
     },
     "execution_count": 76,
     "metadata": {},
     "output_type": "execute_result"
    }
   ],
   "source": [
    "addition(10,20)"
   ]
  },
  {
   "cell_type": "code",
   "execution_count": 77,
   "id": "8b904236",
   "metadata": {},
   "outputs": [
    {
     "data": {
      "text/plain": [
       "60"
      ]
     },
     "execution_count": 77,
     "metadata": {},
     "output_type": "execute_result"
    }
   ],
   "source": [
    "addition(10,20,30)"
   ]
  },
  {
   "cell_type": "code",
   "execution_count": 78,
   "id": "6de2336e",
   "metadata": {},
   "outputs": [],
   "source": [
    "higher_order = lambda x, fun : x + fun(x)"
   ]
  },
  {
   "cell_type": "code",
   "execution_count": 80,
   "id": "cf48cefb",
   "metadata": {},
   "outputs": [
    {
     "data": {
      "text/plain": [
       "110"
      ]
     },
     "execution_count": 80,
     "metadata": {},
     "output_type": "execute_result"
    }
   ],
   "source": [
    "higher_order(10, lambda x: x*x)"
   ]
  },
  {
   "cell_type": "code",
   "execution_count": 81,
   "id": "3138cb51",
   "metadata": {},
   "outputs": [],
   "source": [
    "lab1 = lambda x : x/2"
   ]
  },
  {
   "cell_type": "code",
   "execution_count": 82,
   "id": "8a187dd8",
   "metadata": {},
   "outputs": [
    {
     "data": {
      "text/plain": [
       "15.0"
      ]
     },
     "execution_count": 82,
     "metadata": {},
     "output_type": "execute_result"
    }
   ],
   "source": [
    "higher_order(10, lab1)"
   ]
  },
  {
   "cell_type": "code",
   "execution_count": 88,
   "id": "5549a16c",
   "metadata": {},
   "outputs": [
    {
     "name": "stdout",
     "output_type": "stream",
     "text": [
      "[[0, 1, 2], [0, 1, 2], [0, 1, 2]]\n"
     ]
    }
   ],
   "source": [
    "matrix = [[j for j in range(3)] for i in range(3)]\n",
    "print(matrix)"
   ]
  },
  {
   "cell_type": "code",
   "execution_count": 89,
   "id": "509f1eb2",
   "metadata": {},
   "outputs": [],
   "source": [
    "list4 = [str[::-1] for str in (\"praveen\",\"kumar\",\"python\")]"
   ]
  },
  {
   "cell_type": "code",
   "execution_count": 90,
   "id": "3d296edf",
   "metadata": {},
   "outputs": [
    {
     "data": {
      "text/plain": [
       "['neevarp', 'ramuk', 'nohtyp']"
      ]
     },
     "execution_count": 90,
     "metadata": {},
     "output_type": "execute_result"
    }
   ],
   "source": [
    "list4"
   ]
  },
  {
   "cell_type": "code",
   "execution_count": 93,
   "id": "cf7bda94",
   "metadata": {},
   "outputs": [],
   "source": [
    "def digitSum(n):\n",
    "\tdsum = 0\n",
    "\tfor ele in str(n):\n",
    "\t\tdsum += int(ele)\n",
    "\treturn dsum"
   ]
  },
  {
   "cell_type": "code",
   "execution_count": 109,
   "id": "b7e3a84b",
   "metadata": {},
   "outputs": [],
   "source": [
    "List = [367, 111, 562, 945, 6726, 873]\n",
    "newList = [digitSum(i) for i in List if i % 2!=0 ]"
   ]
  },
  {
   "cell_type": "code",
   "execution_count": 110,
   "id": "cb410eb5",
   "metadata": {},
   "outputs": [
    {
     "data": {
      "text/plain": [
       "[16, 3, 18, 18]"
      ]
     },
     "execution_count": 110,
     "metadata": {},
     "output_type": "execute_result"
    }
   ],
   "source": [
    "newList"
   ]
  },
  {
   "cell_type": "code",
   "execution_count": 111,
   "id": "c9802caa",
   "metadata": {},
   "outputs": [
    {
     "name": "stdout",
     "output_type": "stream",
     "text": [
      "[40, 56, 33, 70]\n"
     ]
    }
   ],
   "source": [
    "num = [10,40,56,27,33,15,70]\n",
    "\n",
    "f1 =data = [10,40,56,27,33,15,70]\n",
    "\n",
    "x = list(filter(f1,num))\n",
    "print(x)"
   ]
  },
  {
   "cell_type": "code",
   "execution_count": 112,
   "id": "52fff162",
   "metadata": {},
   "outputs": [],
   "source": [
    "data = [10,40,56,27,33,15,70]\n",
    "result = filter(lambda x: x%4==0, data)"
   ]
  },
  {
   "cell_type": "code",
   "execution_count": 113,
   "id": "d322295d",
   "metadata": {},
   "outputs": [
    {
     "data": {
      "text/plain": [
       "<filter at 0x1bfa38fcd90>"
      ]
     },
     "execution_count": 113,
     "metadata": {},
     "output_type": "execute_result"
    }
   ],
   "source": [
    "result"
   ]
  },
  {
   "cell_type": "code",
   "execution_count": 114,
   "id": "92c4689e",
   "metadata": {},
   "outputs": [
    {
     "data": {
      "text/plain": [
       "[40, 56]"
      ]
     },
     "execution_count": 114,
     "metadata": {},
     "output_type": "execute_result"
    }
   ],
   "source": [
    "list(result)"
   ]
  },
  {
   "cell_type": "code",
   "execution_count": 115,
   "id": "e7b70f71",
   "metadata": {},
   "outputs": [
    {
     "name": "stdout",
     "output_type": "stream",
     "text": [
      "[11, 41, 57, 28, 34, 16, 71]\n"
     ]
    }
   ],
   "source": [
    "data = [10,40,56,27,33,15,70]\n",
    "result = list( map(lambda x: x+1, data))\n",
    "print(result)"
   ]
  },
  {
   "cell_type": "code",
   "execution_count": 116,
   "id": "cdfbef8f",
   "metadata": {},
   "outputs": [],
   "source": [
    "numbers = list(map(lambda i: i*10, [i for i in range(1, 6)]))"
   ]
  },
  {
   "cell_type": "code",
   "execution_count": 117,
   "id": "ccc1e683",
   "metadata": {},
   "outputs": [
    {
     "data": {
      "text/plain": [
       "[10, 20, 30, 40, 50]"
      ]
     },
     "execution_count": 117,
     "metadata": {},
     "output_type": "execute_result"
    }
   ],
   "source": [
    "numbers"
   ]
  },
  {
   "cell_type": "code",
   "execution_count": 118,
   "id": "2d0332a5",
   "metadata": {},
   "outputs": [],
   "source": [
    "from functools import reduce"
   ]
  },
  {
   "cell_type": "code",
   "execution_count": 119,
   "id": "51e8babe",
   "metadata": {},
   "outputs": [
    {
     "name": "stdout",
     "output_type": "stream",
     "text": [
      "28800\n"
     ]
    }
   ],
   "source": [
    "list4 = [2,5,10,6,4,12]\n",
    "sum = reduce( (lambda x,y : x*y), list4)\n",
    "print(sum)"
   ]
  },
  {
   "cell_type": "code",
   "execution_count": 122,
   "id": "ad406e25",
   "metadata": {},
   "outputs": [],
   "source": [
    "file = open('D://Accenture/Feb13-17/utils.py', 'r')"
   ]
  },
  {
   "cell_type": "code",
   "execution_count": 123,
   "id": "5d61a91e",
   "metadata": {},
   "outputs": [
    {
     "data": {
      "text/plain": [
       "'def circle(radius):\\n\\t\\treturn 3.141*radius*radius\\n\\n\\ndef rectangle(length,breadth):\\n\\t\\treturn length * breadth\\n\\ndef biggest(a,b,c):\\n\\t\\tbig = 0\\n\\t\\tif a < b:\\n\\t\\t\\tif b < c:\\n\\t\\t\\t\\tbig=c\\n\\t\\t\\telse:\\n\\t\\t\\t\\tbig=b\\n\\t\\telse:\\n\\t\\t\\tif a < c:\\n\\t\\t\\t\\tbig=c\\n\\t\\t\\telse:\\n\\t\\t\\t\\tbig=a \\n\\t\\treturn big\\n\\n'"
      ]
     },
     "execution_count": 123,
     "metadata": {},
     "output_type": "execute_result"
    }
   ],
   "source": [
    "file.read()"
   ]
  },
  {
   "cell_type": "code",
   "execution_count": 130,
   "id": "012cbaea",
   "metadata": {},
   "outputs": [],
   "source": [
    "list = file.readline()"
   ]
  },
  {
   "cell_type": "code",
   "execution_count": 131,
   "id": "ca2c4a8c",
   "metadata": {},
   "outputs": [
    {
     "data": {
      "text/plain": [
       "''"
      ]
     },
     "execution_count": 131,
     "metadata": {},
     "output_type": "execute_result"
    }
   ],
   "source": [
    "list"
   ]
  },
  {
   "cell_type": "code",
   "execution_count": 132,
   "id": "8cea688a",
   "metadata": {},
   "outputs": [],
   "source": [
    "list = file.readline()"
   ]
  },
  {
   "cell_type": "code",
   "execution_count": 133,
   "id": "64847699",
   "metadata": {},
   "outputs": [
    {
     "data": {
      "text/plain": [
       "''"
      ]
     },
     "execution_count": 133,
     "metadata": {},
     "output_type": "execute_result"
    }
   ],
   "source": [
    "list"
   ]
  },
  {
   "cell_type": "code",
   "execution_count": 137,
   "id": "48f7142e",
   "metadata": {},
   "outputs": [
    {
     "data": {
      "text/plain": [
       "'Oops, this content eraased previous data\\n'"
      ]
     },
     "execution_count": 137,
     "metadata": {},
     "output_type": "execute_result"
    }
   ],
   "source": [
    "with open(\"D://Accenture/Feb13-17/writedata.txt\") as file:\n",
    "    data = file.readline()\n",
    "data"
   ]
  },
  {
   "cell_type": "code",
   "execution_count": 138,
   "id": "eaddcc13",
   "metadata": {},
   "outputs": [
    {
     "ename": "ValueError",
     "evalue": "I/O operation on closed file.",
     "output_type": "error",
     "traceback": [
      "\u001b[1;31m---------------------------------------------------------------------------\u001b[0m",
      "\u001b[1;31mValueError\u001b[0m                                Traceback (most recent call last)",
      "\u001b[1;32m~\\AppData\\Local\\Temp\\ipykernel_17668\\2594295478.py\u001b[0m in \u001b[0;36m<module>\u001b[1;34m\u001b[0m\n\u001b[1;32m----> 1\u001b[1;33m \u001b[0mdata\u001b[0m \u001b[1;33m=\u001b[0m \u001b[0mfile\u001b[0m\u001b[1;33m.\u001b[0m\u001b[0mreadline\u001b[0m\u001b[1;33m(\u001b[0m\u001b[1;33m)\u001b[0m\u001b[1;33m\u001b[0m\u001b[1;33m\u001b[0m\u001b[0m\n\u001b[0m",
      "\u001b[1;31mValueError\u001b[0m: I/O operation on closed file."
     ]
    }
   ],
   "source": [
    "data = file.readline()"
   ]
  },
  {
   "cell_type": "code",
   "execution_count": 141,
   "id": "8469b671",
   "metadata": {},
   "outputs": [
    {
     "name": "stdout",
     "output_type": "stream",
     "text": [
      "Oops, this content eraased previous data\n",
      "\n",
      "This content will be added to previous content\n",
      "\n",
      "this is another line for file\n"
     ]
    }
   ],
   "source": [
    "with open(\"D://Accenture/Feb13-17/writedata.txt\") as file:\n",
    "    data = file.readlines()\n",
    "for line in data:\n",
    "    print(line)"
   ]
  },
  {
   "cell_type": "code",
   "execution_count": 142,
   "id": "e0b76c3d",
   "metadata": {},
   "outputs": [
    {
     "name": "stdout",
     "output_type": "stream",
     "text": [
      "files are opening in respective modes....\n",
      "files are opened in respective modes....\n",
      "Data is copied from source to destinations files\n",
      "file references are closed.\n"
     ]
    }
   ],
   "source": [
    "print(\"files are opening in respective modes....\")\n",
    "readfile = open(\"D://Accenture/Feb13-17/writedata.txt\",\"r\")\n",
    "writefile = open(\"D://Accenture/Feb13-17/copydata.txt\",\"w\")\n",
    "print(\"files are opened in respective modes....\")\n",
    "data  = readfile.readlines()\n",
    "writefile.writelines(data)\n",
    "print(\"Data is copied from source to destinations files\")\n",
    "writefile.close()\n",
    "readfile.close()\n",
    "print(\"file references are closed.\")"
   ]
  },
  {
   "cell_type": "code",
   "execution_count": 154,
   "id": "54c67ac0",
   "metadata": {},
   "outputs": [
    {
     "ename": "SyntaxError",
     "evalue": "invalid syntax (593426153.py, line 11)",
     "output_type": "error",
     "traceback": [
      "\u001b[1;36m  File \u001b[1;32m\"C:\\Users\\Administrator\\AppData\\Local\\Temp\\ipykernel_17668\\593426153.py\"\u001b[1;36m, line \u001b[1;32m11\u001b[0m\n\u001b[1;33m    print(rows)     |\u001b[0m\n\u001b[1;37m                     ^\u001b[0m\n\u001b[1;31mSyntaxError\u001b[0m\u001b[1;31m:\u001b[0m invalid syntax\n"
     ]
    }
   ],
   "source": [
    "import csv\n",
    "header=[]\n",
    "data=[]\n",
    "rows=[]\n",
    "with open(\"D://Accenture/Feb13-17/csvdata.txt\", 'r') as file:\n",
    "          csvreader = csv.reader(file)\n",
    "          header = next(csvreader)\n",
    "print(header)\n",
    "for row in csvreader:\n",
    "        rows.append(row)\n",
    "print(rows)     |"
   ]
  },
  {
   "cell_type": "code",
   "execution_count": 161,
   "id": "aa53b239",
   "metadata": {},
   "outputs": [
    {
     "name": "stdout",
     "output_type": "stream",
     "text": [
      "['sno', 'name', 'city']\n",
      "[['1', 'praveen', 'hyderabad'], ['2', 'kumar', 'chennai'], ['3', 'sunil', 'bangalore'], ['4', 'sai', 'mumbai'], ['5', 'karan', 'delhi']]\n"
     ]
    }
   ],
   "source": [
    "import csv\n",
    "rows = []\n",
    "with open(\"D://Accenture/Feb13-17/csvdata.csv\", 'r') as file:\n",
    "          csvreader = csv.reader(file)\n",
    "          header = next(csvreader)\n",
    "          for row in csvreader:\n",
    "                rows.append(row)\n",
    "print(header)\n",
    "for x in rows:\n",
    "    print(x)"
   ]
  },
  {
   "cell_type": "code",
   "execution_count": 162,
   "id": "97375cf9",
   "metadata": {},
   "outputs": [
    {
     "name": "stdout",
     "output_type": "stream",
     "text": [
      "['sno', 'name', 'city']\n",
      "['1', 'praveen', 'hyderabad']\n",
      "['2', 'kumar', 'chennai']\n",
      "['3', 'sunil', 'bangalore']\n",
      "['4', 'sai', 'mumbai']\n",
      "['5', 'karan', 'delhi']\n"
     ]
    }
   ],
   "source": [
    "import csv\n",
    "rows = []\n",
    "with open(\"D://Accenture/Feb13-17/csvdata.csv\", 'r') as file:\n",
    "          csvreader = csv.reader(file)\n",
    "          header = next(csvreader)\n",
    "          for row in csvreader:\n",
    "                rows.append(row)\n",
    "print(header)\n",
    "for x in rows:\n",
    "    print(x)"
   ]
  },
  {
   "cell_type": "code",
   "execution_count": 173,
   "id": "c4a1f3d6",
   "metadata": {},
   "outputs": [
    {
     "name": "stdout",
     "output_type": "stream",
     "text": [
      "['sno', 'name', 'city']\n",
      "\n",
      "['1', 'praveen', 'hyderabad']\n",
      "['2', 'kumar', 'chennai']\n",
      "['3', 'sunil', 'bangalore']\n",
      "['4', 'sai', 'mumbai']\n",
      "['5', 'karan', 'delhi']\n"
     ]
    }
   ],
   "source": [
    "import csv\n",
    "rows = []\n",
    "with open(\"D://Accenture/Feb13-17/csvdata.csv\", 'r') as file:\n",
    "          csvreader = csv.reader(file)\n",
    "          header = next(csvreader)\n",
    "          for row in csvreader:\n",
    "                rows.append(row)\n",
    "print(header)\n",
    "print()\n",
    "for y in rows:\n",
    "    print(y)\n",
    "    #print()"
   ]
  },
  {
   "cell_type": "code",
   "execution_count": 175,
   "id": "27afec77",
   "metadata": {},
   "outputs": [
    {
     "name": "stdout",
     "output_type": "stream",
     "text": [
      "['sno,name,city\\n']\n",
      "1,praveen,hyderabad\n",
      "\n",
      "2,kumar,chennai\n",
      "\n",
      "3,sunil,bangalore\n",
      "\n",
      "4,sai,mumbai\n",
      "\n",
      "5,karan,delhi\n"
     ]
    }
   ],
   "source": [
    "with open(\"D://Accenture/Feb13-17/csvdata.csv\", 'r') as file:\n",
    "    content = file.readlines()\n",
    "header = content[:1]\n",
    "rows = content[1:]\n",
    "print(header)\n",
    "for row in rows:\n",
    "    print(row)"
   ]
  },
  {
   "cell_type": "code",
   "execution_count": 176,
   "id": "544cf5da",
   "metadata": {},
   "outputs": [
    {
     "name": "stdout",
     "output_type": "stream",
     "text": [
      "file writing completed....\n"
     ]
    }
   ],
   "source": [
    "header = ['Name', 'M1 Score', 'M2 Score']\n",
    "data = [\n",
    "\t\t\t['Alex', 62, 80], \n",
    "\t\t\t['Brad', 45, 56], \n",
    "\t\t\t['Joey', 85, 98]\n",
    "\t\t]\n",
    "filename = 'D://Accenture/Feb13-17/filewrite'\n",
    "with open(filename, 'w', newline=\"\") as file:\n",
    "    csvwriter = csv.writer(file) # 2. create a csvwriter object\n",
    "    csvwriter.writerow(header) # 4. write the header\n",
    "    csvwriter.writerows(data) # 5. write the rest of the data\n",
    "print(\"file writing completed....\")"
   ]
  },
  {
   "cell_type": "code",
   "execution_count": 2,
   "id": "41e2e40f",
   "metadata": {},
   "outputs": [],
   "source": [
    "class Demo:\n",
    "    pass"
   ]
  },
  {
   "cell_type": "code",
   "execution_count": 53,
   "id": "e27b9e76",
   "metadata": {},
   "outputs": [],
   "source": [
    "class Employee:\n",
    "    eid = None\n",
    "    name = None\n",
    "    dept = None\n",
    "    __salary = 90000\n",
    "    _desg = \"Manager\"\n",
    "    \n",
    "    def display(self):\n",
    "        print(\"ID = \"+self.eid+\" Name = \"+self.name+\" Dept = \"+self.dept)\n",
    "        \n",
    "    def setData(self):\n",
    "        self.eid = \"9999\"\n",
    "        self.name=\"Kumar\"\n",
    "        self.dept=\"Quality\"\n",
    "        \n",
    "    def showSalary(self):\n",
    "        print(\"The salary is : \",self.__salary)\n",
    "    "
   ]
  },
  {
   "cell_type": "code",
   "execution_count": 54,
   "id": "cedb8a3b",
   "metadata": {},
   "outputs": [],
   "source": [
    "emp1 = Employee()\n",
    "emp2 = Employee()\n",
    "emp3 = Employee()"
   ]
  },
  {
   "cell_type": "code",
   "execution_count": 14,
   "id": "61265872",
   "metadata": {},
   "outputs": [
    {
     "name": "stdout",
     "output_type": "stream",
     "text": [
      "2001\n"
     ]
    }
   ],
   "source": [
    "print(emp.eid)"
   ]
  },
  {
   "cell_type": "code",
   "execution_count": 40,
   "id": "f1307e9e",
   "metadata": {},
   "outputs": [],
   "source": [
    "    emp1.setData()"
   ]
  },
  {
   "cell_type": "code",
   "execution_count": 41,
   "id": "c4913cbe",
   "metadata": {},
   "outputs": [
    {
     "name": "stdout",
     "output_type": "stream",
     "text": [
      "ID = 9999 Name = Kumar Dept = Quality\n"
     ]
    }
   ],
   "source": [
    "emp1.display()"
   ]
  },
  {
   "cell_type": "code",
   "execution_count": 27,
   "id": "3b83943d",
   "metadata": {},
   "outputs": [
    {
     "name": "stdout",
     "output_type": "stream",
     "text": [
      "ID = 2001 Name = Praveen Dept = Finance\n",
      "eid in display: 9001\n"
     ]
    }
   ],
   "source": [
    "emp2.display()"
   ]
  },
  {
   "cell_type": "code",
   "execution_count": 28,
   "id": "ad098dd5",
   "metadata": {},
   "outputs": [
    {
     "name": "stdout",
     "output_type": "stream",
     "text": [
      "ID = 2001 Name = Praveen Dept = Finance\n",
      "eid in display: 9001\n"
     ]
    }
   ],
   "source": [
    "emp3.display()"
   ]
  },
  {
   "cell_type": "code",
   "execution_count": 30,
   "id": "a0d3bba0",
   "metadata": {},
   "outputs": [
    {
     "data": {
      "text/plain": [
       "'2001'"
      ]
     },
     "execution_count": 30,
     "metadata": {},
     "output_type": "execute_result"
    }
   ],
   "source": [
    "emp1.eid"
   ]
  },
  {
   "cell_type": "code",
   "execution_count": 31,
   "id": "0a1019f1",
   "metadata": {},
   "outputs": [
    {
     "data": {
      "text/plain": [
       "'2001'"
      ]
     },
     "execution_count": 31,
     "metadata": {},
     "output_type": "execute_result"
    }
   ],
   "source": [
    "emp2.eid"
   ]
  },
  {
   "cell_type": "code",
   "execution_count": 32,
   "id": "832ac7b5",
   "metadata": {},
   "outputs": [
    {
     "data": {
      "text/plain": [
       "'2001'"
      ]
     },
     "execution_count": 32,
     "metadata": {},
     "output_type": "execute_result"
    }
   ],
   "source": [
    "emp3.eid"
   ]
  },
  {
   "cell_type": "code",
   "execution_count": 38,
   "id": "89087caf",
   "metadata": {},
   "outputs": [
    {
     "ename": "TypeError",
     "evalue": "can only concatenate str (not \"NoneType\") to str",
     "output_type": "error",
     "traceback": [
      "\u001b[1;31m---------------------------------------------------------------------------\u001b[0m",
      "\u001b[1;31mTypeError\u001b[0m                                 Traceback (most recent call last)",
      "\u001b[1;32m~\\AppData\\Local\\Temp\\ipykernel_27112\\1484952296.py\u001b[0m in \u001b[0;36m<module>\u001b[1;34m\u001b[0m\n\u001b[1;32m----> 1\u001b[1;33m \u001b[0memp1\u001b[0m\u001b[1;33m.\u001b[0m\u001b[0mdisplay\u001b[0m\u001b[1;33m(\u001b[0m\u001b[1;33m)\u001b[0m\u001b[1;33m\u001b[0m\u001b[1;33m\u001b[0m\u001b[0m\n\u001b[0m",
      "\u001b[1;32m~\\AppData\\Local\\Temp\\ipykernel_27112\\2613799054.py\u001b[0m in \u001b[0;36mdisplay\u001b[1;34m(self)\u001b[0m\n\u001b[0;32m      5\u001b[0m \u001b[1;33m\u001b[0m\u001b[0m\n\u001b[0;32m      6\u001b[0m     \u001b[1;32mdef\u001b[0m \u001b[0mdisplay\u001b[0m\u001b[1;33m(\u001b[0m\u001b[0mself\u001b[0m\u001b[1;33m)\u001b[0m\u001b[1;33m:\u001b[0m\u001b[1;33m\u001b[0m\u001b[1;33m\u001b[0m\u001b[0m\n\u001b[1;32m----> 7\u001b[1;33m         \u001b[0mprint\u001b[0m\u001b[1;33m(\u001b[0m\u001b[1;34m\"ID = \"\u001b[0m\u001b[1;33m+\u001b[0m\u001b[0mself\u001b[0m\u001b[1;33m.\u001b[0m\u001b[0meid\u001b[0m\u001b[1;33m+\u001b[0m\u001b[1;34m\" Name = \"\u001b[0m\u001b[1;33m+\u001b[0m\u001b[0mself\u001b[0m\u001b[1;33m.\u001b[0m\u001b[0mname\u001b[0m\u001b[1;33m+\u001b[0m\u001b[1;34m\" Dept = \"\u001b[0m\u001b[1;33m+\u001b[0m\u001b[0mself\u001b[0m\u001b[1;33m.\u001b[0m\u001b[0mdept\u001b[0m\u001b[1;33m)\u001b[0m\u001b[1;33m\u001b[0m\u001b[1;33m\u001b[0m\u001b[0m\n\u001b[0m\u001b[0;32m      8\u001b[0m \u001b[1;33m\u001b[0m\u001b[0m\n\u001b[0;32m      9\u001b[0m     \u001b[1;32mdef\u001b[0m \u001b[0msetData\u001b[0m\u001b[1;33m(\u001b[0m\u001b[0mself\u001b[0m\u001b[1;33m)\u001b[0m\u001b[1;33m:\u001b[0m\u001b[1;33m\u001b[0m\u001b[1;33m\u001b[0m\u001b[0m\n",
      "\u001b[1;31mTypeError\u001b[0m: can only concatenate str (not \"NoneType\") to str"
     ]
    }
   ],
   "source": [
    "emp1.display()"
   ]
  },
  {
   "cell_type": "code",
   "execution_count": 44,
   "id": "3d29e6e5",
   "metadata": {},
   "outputs": [
    {
     "ename": "AttributeError",
     "evalue": "'Employee' object has no attribute '__salary'",
     "output_type": "error",
     "traceback": [
      "\u001b[1;31m---------------------------------------------------------------------------\u001b[0m",
      "\u001b[1;31mAttributeError\u001b[0m                            Traceback (most recent call last)",
      "\u001b[1;32m~\\AppData\\Local\\Temp\\ipykernel_27112\\2500325638.py\u001b[0m in \u001b[0;36m<module>\u001b[1;34m\u001b[0m\n\u001b[1;32m----> 1\u001b[1;33m \u001b[0memp1\u001b[0m\u001b[1;33m.\u001b[0m\u001b[0m__salary\u001b[0m\u001b[1;33m\u001b[0m\u001b[1;33m\u001b[0m\u001b[0m\n\u001b[0m",
      "\u001b[1;31mAttributeError\u001b[0m: 'Employee' object has no attribute '__salary'"
     ]
    }
   ],
   "source": [
    "emp1.__salary"
   ]
  },
  {
   "cell_type": "code",
   "execution_count": 51,
   "id": "500fa32c",
   "metadata": {},
   "outputs": [
    {
     "name": "stdout",
     "output_type": "stream",
     "text": [
      "The salary is :  90000\n"
     ]
    }
   ],
   "source": [
    "emp1.showSalary()"
   ]
  },
  {
   "cell_type": "code",
   "execution_count": 56,
   "id": "8276c4f0",
   "metadata": {},
   "outputs": [
    {
     "data": {
      "text/plain": [
       "'Manager'"
      ]
     },
     "execution_count": 56,
     "metadata": {},
     "output_type": "execute_result"
    }
   ],
   "source": [
    "emp1._desg"
   ]
  },
  {
   "cell_type": "code",
   "execution_count": 76,
   "id": "779ac7a4",
   "metadata": {},
   "outputs": [],
   "source": [
    "class Student:\n",
    "    htno = None\n",
    "    name = None\n",
    "    branch = None\n",
    "    #def __init__(self):\n",
    "        #pass\n",
    "    def showDetails(self):\n",
    "        print(\"Htno = \"+self.htno+\" Name = \"+self.name+\" Branch = \"+self.branch)\n",
    "    "
   ]
  },
  {
   "cell_type": "code",
   "execution_count": 58,
   "id": "f63cc847",
   "metadata": {},
   "outputs": [],
   "source": [
    "s1 = Student()"
   ]
  },
  {
   "cell_type": "code",
   "execution_count": 59,
   "id": "d5d95f9d",
   "metadata": {},
   "outputs": [
    {
     "ename": "TypeError",
     "evalue": "can only concatenate str (not \"NoneType\") to str",
     "output_type": "error",
     "traceback": [
      "\u001b[1;31m---------------------------------------------------------------------------\u001b[0m",
      "\u001b[1;31mTypeError\u001b[0m                                 Traceback (most recent call last)",
      "\u001b[1;32m~\\AppData\\Local\\Temp\\ipykernel_27112\\3395737935.py\u001b[0m in \u001b[0;36m<module>\u001b[1;34m\u001b[0m\n\u001b[1;32m----> 1\u001b[1;33m \u001b[0ms1\u001b[0m\u001b[1;33m.\u001b[0m\u001b[0mshowDetails\u001b[0m\u001b[1;33m(\u001b[0m\u001b[1;33m)\u001b[0m\u001b[1;33m\u001b[0m\u001b[1;33m\u001b[0m\u001b[0m\n\u001b[0m",
      "\u001b[1;32m~\\AppData\\Local\\Temp\\ipykernel_27112\\798335226.py\u001b[0m in \u001b[0;36mshowDetails\u001b[1;34m(self)\u001b[0m\n\u001b[0;32m      4\u001b[0m     \u001b[0mbranch\u001b[0m \u001b[1;33m=\u001b[0m \u001b[1;32mNone\u001b[0m\u001b[1;33m\u001b[0m\u001b[1;33m\u001b[0m\u001b[0m\n\u001b[0;32m      5\u001b[0m     \u001b[1;32mdef\u001b[0m \u001b[0mshowDetails\u001b[0m\u001b[1;33m(\u001b[0m\u001b[0mself\u001b[0m\u001b[1;33m)\u001b[0m\u001b[1;33m:\u001b[0m\u001b[1;33m\u001b[0m\u001b[1;33m\u001b[0m\u001b[0m\n\u001b[1;32m----> 6\u001b[1;33m         \u001b[0mprint\u001b[0m\u001b[1;33m(\u001b[0m\u001b[1;34m\"Htno = \"\u001b[0m\u001b[1;33m+\u001b[0m\u001b[0mself\u001b[0m\u001b[1;33m.\u001b[0m\u001b[0mhtno\u001b[0m\u001b[1;33m+\u001b[0m\u001b[1;34m\" Name = \"\u001b[0m\u001b[1;33m+\u001b[0m\u001b[0mself\u001b[0m\u001b[1;33m.\u001b[0m\u001b[0mname\u001b[0m\u001b[1;33m+\u001b[0m\u001b[1;34m\" Branch = \"\u001b[0m\u001b[1;33m+\u001b[0m\u001b[0mself\u001b[0m\u001b[1;33m.\u001b[0m\u001b[0mbranch\u001b[0m\u001b[1;33m)\u001b[0m\u001b[1;33m\u001b[0m\u001b[1;33m\u001b[0m\u001b[0m\n\u001b[0m\u001b[0;32m      7\u001b[0m \u001b[1;33m\u001b[0m\u001b[0m\n",
      "\u001b[1;31mTypeError\u001b[0m: can only concatenate str (not \"NoneType\") to str"
     ]
    }
   ],
   "source": [
    "s1.showDetails()"
   ]
  },
  {
   "cell_type": "code",
   "execution_count": 65,
   "id": "1c7d7517",
   "metadata": {},
   "outputs": [],
   "source": [
    "class Student:\n",
    "    htno = None\n",
    "    name = None\n",
    "    branch = None\n",
    "    def __init__(self):\n",
    "        print(\"This method is called automatically\")\n",
    "        self.htno=\"1001\"\n",
    "        self.name=\"Arun\"\n",
    "        self.branch=\"cse\"\n",
    "        \n",
    "    def showDetails(self):\n",
    "        print(\"Htno = \"+self.htno+\" Name = \"+self.name+\" Branch = \"+self.branch)"
   ]
  },
  {
   "cell_type": "code",
   "execution_count": 66,
   "id": "f21fdfab",
   "metadata": {},
   "outputs": [
    {
     "name": "stdout",
     "output_type": "stream",
     "text": [
      "This method is called automatically\n"
     ]
    }
   ],
   "source": [
    "s2 = Student()"
   ]
  },
  {
   "cell_type": "code",
   "execution_count": 62,
   "id": "022e6458",
   "metadata": {},
   "outputs": [
    {
     "name": "stdout",
     "output_type": "stream",
     "text": [
      "Htno = 1001 Name = Arun Branch = cse\n"
     ]
    }
   ],
   "source": [
    "s2.showDetails()"
   ]
  },
  {
   "cell_type": "code",
   "execution_count": 67,
   "id": "472e7f45",
   "metadata": {},
   "outputs": [
    {
     "name": "stdout",
     "output_type": "stream",
     "text": [
      "This method is called automatically\n"
     ]
    }
   ],
   "source": [
    "s3 = Student()"
   ]
  },
  {
   "cell_type": "code",
   "execution_count": 64,
   "id": "a7d25fbf",
   "metadata": {},
   "outputs": [
    {
     "name": "stdout",
     "output_type": "stream",
     "text": [
      "Htno = 1001 Name = Arun Branch = cse\n"
     ]
    }
   ],
   "source": [
    "s3.showDetails()"
   ]
  },
  {
   "cell_type": "code",
   "execution_count": 78,
   "id": "c2dcfd1b",
   "metadata": {},
   "outputs": [],
   "source": [
    "class Student1:\n",
    "    htno = None\n",
    "    name = None\n",
    "    branch = None\n",
    "  \n",
    "    def __init__(self, htno,name,branch):\n",
    "        print(\"This method is called automatically\")\n",
    "        self.htno=htno\n",
    "        self.name=name\n",
    "        self.branch=branch\n",
    "        \n",
    "    \n",
    "    def showDetails(self):\n",
    "        print(\"Htno = \"+self.htno+\" Name = \"+self.name+\" Branch = \"+self.branch)"
   ]
  },
  {
   "cell_type": "code",
   "execution_count": 70,
   "id": "28de7e90",
   "metadata": {},
   "outputs": [
    {
     "name": "stdout",
     "output_type": "stream",
     "text": [
      "This method is called automatically\n"
     ]
    }
   ],
   "source": [
    "s4 = Student1(\"8999\",\"Sai\",\"Civil\")"
   ]
  },
  {
   "cell_type": "code",
   "execution_count": 71,
   "id": "4da077f3",
   "metadata": {},
   "outputs": [
    {
     "name": "stdout",
     "output_type": "stream",
     "text": [
      "Htno = 8999 Name = Sai Branch = Civil\n"
     ]
    }
   ],
   "source": [
    "s4.showDetails()"
   ]
  },
  {
   "cell_type": "code",
   "execution_count": 72,
   "id": "87d48090",
   "metadata": {},
   "outputs": [
    {
     "name": "stdout",
     "output_type": "stream",
     "text": [
      "This method is called automatically\n"
     ]
    }
   ],
   "source": [
    "s4 = Student1(\"9001\",\"Sunny\",\"eee\")"
   ]
  },
  {
   "cell_type": "code",
   "execution_count": 73,
   "id": "701b5f39",
   "metadata": {},
   "outputs": [
    {
     "name": "stdout",
     "output_type": "stream",
     "text": [
      "Htno = 9001 Name = Sunny Branch = eee\n"
     ]
    }
   ],
   "source": [
    "s4.showDetails()"
   ]
  },
  {
   "cell_type": "code",
   "execution_count": 74,
   "id": "54483f1a",
   "metadata": {},
   "outputs": [
    {
     "ename": "TypeError",
     "evalue": "__init__() missing 1 required positional argument: 'branch'",
     "output_type": "error",
     "traceback": [
      "\u001b[1;31m---------------------------------------------------------------------------\u001b[0m",
      "\u001b[1;31mTypeError\u001b[0m                                 Traceback (most recent call last)",
      "\u001b[1;32m~\\AppData\\Local\\Temp\\ipykernel_27112\\964721567.py\u001b[0m in \u001b[0;36m<module>\u001b[1;34m\u001b[0m\n\u001b[1;32m----> 1\u001b[1;33m \u001b[0ms5\u001b[0m \u001b[1;33m=\u001b[0m \u001b[0mStudent1\u001b[0m\u001b[1;33m(\u001b[0m\u001b[1;34m\"9001\"\u001b[0m\u001b[1;33m,\u001b[0m\u001b[1;34m\"Sunny\"\u001b[0m\u001b[1;33m)\u001b[0m\u001b[1;33m\u001b[0m\u001b[1;33m\u001b[0m\u001b[0m\n\u001b[0m",
      "\u001b[1;31mTypeError\u001b[0m: __init__() missing 1 required positional argument: 'branch'"
     ]
    }
   ],
   "source": [
    "s5 = Student1(\"9001\",\"Sunny\")"
   ]
  },
  {
   "cell_type": "code",
   "execution_count": 82,
   "id": "34c21aef",
   "metadata": {},
   "outputs": [
    {
     "name": "stdout",
     "output_type": "stream",
     "text": [
      "This method is called automatically\n"
     ]
    }
   ],
   "source": [
    "s5 = Student1()"
   ]
  },
  {
   "cell_type": "code",
   "execution_count": 83,
   "id": "5ef47c11",
   "metadata": {},
   "outputs": [
    {
     "name": "stdout",
     "output_type": "stream",
     "text": [
      "Htno = 10100 Name = Not Defined Branch = No Branch\n"
     ]
    }
   ],
   "source": [
    "s5.showDetails()"
   ]
  },
  {
   "cell_type": "code",
   "execution_count": 85,
   "id": "c1205ed3",
   "metadata": {},
   "outputs": [
    {
     "ename": "TypeError",
     "evalue": "__init__() takes 1 positional argument but 4 were given",
     "output_type": "error",
     "traceback": [
      "\u001b[1;31m---------------------------------------------------------------------------\u001b[0m",
      "\u001b[1;31mTypeError\u001b[0m                                 Traceback (most recent call last)",
      "\u001b[1;32m~\\AppData\\Local\\Temp\\ipykernel_27112\\2104311026.py\u001b[0m in \u001b[0;36m<module>\u001b[1;34m\u001b[0m\n\u001b[1;32m----> 1\u001b[1;33m \u001b[0ms6\u001b[0m \u001b[1;33m=\u001b[0m \u001b[0mStudent1\u001b[0m\u001b[1;33m(\u001b[0m\u001b[1;36m1111\u001b[0m\u001b[1;33m,\u001b[0m\u001b[1;34m\"Srinivas\"\u001b[0m\u001b[1;33m,\u001b[0m\u001b[1;34m\"ECE\"\u001b[0m\u001b[1;33m)\u001b[0m\u001b[1;33m\u001b[0m\u001b[1;33m\u001b[0m\u001b[0m\n\u001b[0m",
      "\u001b[1;31mTypeError\u001b[0m: __init__() takes 1 positional argument but 4 were given"
     ]
    }
   ],
   "source": [
    "s6 = Student1(1111,\"Srinivas\",\"ECE\")"
   ]
  },
  {
   "cell_type": "code",
   "execution_count": 86,
   "id": "40db0884",
   "metadata": {},
   "outputs": [],
   "source": [
    "class Box2D:\n",
    "    length = 1\n",
    "    breadth = 2\n",
    "    def area(self):\n",
    "        print(\"The area of box is \", (self.length*self.breadth))"
   ]
  },
  {
   "cell_type": "code",
   "execution_count": 87,
   "id": "35aed25e",
   "metadata": {},
   "outputs": [],
   "source": [
    "b1 = Box2D()"
   ]
  },
  {
   "cell_type": "code",
   "execution_count": 88,
   "id": "6f839fbf",
   "metadata": {},
   "outputs": [
    {
     "name": "stdout",
     "output_type": "stream",
     "text": [
      "The area of box is  2\n"
     ]
    }
   ],
   "source": [
    "b1.area()"
   ]
  },
  {
   "cell_type": "code",
   "execution_count": 94,
   "id": "384a78e2",
   "metadata": {},
   "outputs": [],
   "source": [
    "class Box3D:\n",
    "    length=1\n",
    "    breadth = 2\n",
    "    height = 2\n",
    "    def area(self):\n",
    "        print(\"The area of box is \", (self.length*self.breadth))\n",
    "        \n",
    "    def volume(self):\n",
    "        print(\"The volume of box is \",(self.length*self.breadth*self.height))"
   ]
  },
  {
   "cell_type": "code",
   "execution_count": 97,
   "id": "d3bcdab9",
   "metadata": {},
   "outputs": [],
   "source": [
    "b2 = Box3D()"
   ]
  },
  {
   "cell_type": "code",
   "execution_count": 98,
   "id": "77c261e8",
   "metadata": {},
   "outputs": [
    {
     "name": "stdout",
     "output_type": "stream",
     "text": [
      "The area of box is  2\n",
      "The volume of box is  4\n"
     ]
    }
   ],
   "source": [
    "b2.area()\n",
    "b2.volume()"
   ]
  },
  {
   "cell_type": "code",
   "execution_count": 121,
   "id": "94c2805f",
   "metadata": {},
   "outputs": [],
   "source": [
    "class TwoDBox:\n",
    "    _length = 1\n",
    "    breadth = 2\n",
    "    def __init__(self):\n",
    "        print(\"Parent is created..\")\n",
    "    def area(self):\n",
    "        print(\"The area of box is \", (self._length*self.breadth))"
   ]
  },
  {
   "cell_type": "code",
   "execution_count": 122,
   "id": "f63398eb",
   "metadata": {},
   "outputs": [],
   "source": [
    "class ThreeDBox(TwoDBox):\n",
    "    height=3\n",
    "    def volume(self):\n",
    "        print(\"The volume of box is \",(self._length*self.breadth*self.height))        "
   ]
  },
  {
   "cell_type": "code",
   "execution_count": 123,
   "id": "241c753e",
   "metadata": {},
   "outputs": [
    {
     "name": "stdout",
     "output_type": "stream",
     "text": [
      "Parent is created..\n"
     ]
    }
   ],
   "source": [
    "b4 = ThreeDBox()"
   ]
  },
  {
   "cell_type": "code",
   "execution_count": 120,
   "id": "6b3e6536",
   "metadata": {},
   "outputs": [
    {
     "name": "stdout",
     "output_type": "stream",
     "text": [
      "The area of box is  2\n",
      "The volume of box is  6\n"
     ]
    }
   ],
   "source": [
    "b4.area()\n",
    "b4.volume()"
   ]
  },
  {
   "cell_type": "code",
   "execution_count": null,
   "id": "7e8def71",
   "metadata": {},
   "outputs": [],
   "source": []
  }
 ],
 "metadata": {
  "kernelspec": {
   "display_name": "Python 3 (ipykernel)",
   "language": "python",
   "name": "python3"
  },
  "language_info": {
   "codemirror_mode": {
    "name": "ipython",
    "version": 3
   },
   "file_extension": ".py",
   "mimetype": "text/x-python",
   "name": "python",
   "nbconvert_exporter": "python",
   "pygments_lexer": "ipython3",
   "version": "3.9.13"
  }
 },
 "nbformat": 4,
 "nbformat_minor": 5
}
