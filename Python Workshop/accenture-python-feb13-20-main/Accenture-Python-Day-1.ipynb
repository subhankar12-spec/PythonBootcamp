{
 "cells": [
  {
   "cell_type": "code",
   "execution_count": 1,
   "id": "3b358798",
   "metadata": {},
   "outputs": [
    {
     "data": {
      "text/plain": [
       "'Hello this is python program'"
      ]
     },
     "execution_count": 1,
     "metadata": {},
     "output_type": "execute_result"
    }
   ],
   "source": [
    "txt = \"hello this is python program\"\n",
    "\n",
    "txt.capitalize()"
   ]
  },
  {
   "cell_type": "code",
   "execution_count": 2,
   "id": "7acd6bd1",
   "metadata": {},
   "outputs": [
    {
     "data": {
      "text/plain": [
       "2"
      ]
     },
     "execution_count": 2,
     "metadata": {},
     "output_type": "execute_result"
    }
   ],
   "source": [
    "txt = \"hello this is python program, python is useful lang\"\n",
    "txt.count(\"python\")"
   ]
  },
  {
   "cell_type": "code",
   "execution_count": 3,
   "id": "236d6163",
   "metadata": {},
   "outputs": [
    {
     "data": {
      "text/plain": [
       "14"
      ]
     },
     "execution_count": 3,
     "metadata": {},
     "output_type": "execute_result"
    }
   ],
   "source": [
    "txt.find(\"python\")"
   ]
  },
  {
   "cell_type": "code",
   "execution_count": 4,
   "id": "91776ff3",
   "metadata": {},
   "outputs": [
    {
     "data": {
      "text/plain": [
       "'h'"
      ]
     },
     "execution_count": 4,
     "metadata": {},
     "output_type": "execute_result"
    }
   ],
   "source": [
    "txt[0]"
   ]
  },
  {
   "cell_type": "code",
   "execution_count": 5,
   "id": "07ebcf3f",
   "metadata": {},
   "outputs": [
    {
     "data": {
      "text/plain": [
       "'e'"
      ]
     },
     "execution_count": 5,
     "metadata": {},
     "output_type": "execute_result"
    }
   ],
   "source": [
    "txt[1]"
   ]
  },
  {
   "cell_type": "code",
   "execution_count": 9,
   "id": "fe75bd31",
   "metadata": {},
   "outputs": [
    {
     "data": {
      "text/plain": [
       "52"
      ]
     },
     "execution_count": 9,
     "metadata": {},
     "output_type": "execute_result"
    }
   ],
   "source": [
    "len(txt)"
   ]
  },
  {
   "cell_type": "code",
   "execution_count": 8,
   "id": "7c0873df",
   "metadata": {},
   "outputs": [
    {
     "data": {
      "text/plain": [
       "['hello this is python program', ', python is useful lang']"
      ]
     },
     "execution_count": 8,
     "metadata": {},
     "output_type": "execute_result"
    }
   ],
   "source": [
    "txt = \"hello this is python program\\n, python is useful lang\"\n",
    "txt.splitlines()"
   ]
  },
  {
   "cell_type": "code",
   "execution_count": 12,
   "id": "f4bdecba",
   "metadata": {},
   "outputs": [],
   "source": [
    "a = (3+4j)\n",
    "b = (2 + 3j)"
   ]
  },
  {
   "cell_type": "code",
   "execution_count": 13,
   "id": "08d4ea30",
   "metadata": {},
   "outputs": [
    {
     "data": {
      "text/plain": [
       "(5+7j)"
      ]
     },
     "execution_count": 13,
     "metadata": {},
     "output_type": "execute_result"
    }
   ],
   "source": [
    "a+b"
   ]
  },
  {
   "cell_type": "code",
   "execution_count": 14,
   "id": "3b8a120d",
   "metadata": {},
   "outputs": [
    {
     "data": {
      "text/plain": [
       "(1+1j)"
      ]
     },
     "execution_count": 14,
     "metadata": {},
     "output_type": "execute_result"
    }
   ],
   "source": [
    "a-b"
   ]
  },
  {
   "cell_type": "code",
   "execution_count": 15,
   "id": "05790fdc",
   "metadata": {},
   "outputs": [
    {
     "data": {
      "text/plain": [
       "(-6+17j)"
      ]
     },
     "execution_count": 15,
     "metadata": {},
     "output_type": "execute_result"
    }
   ],
   "source": [
    "a*b"
   ]
  },
  {
   "cell_type": "code",
   "execution_count": 16,
   "id": "9f9d6889",
   "metadata": {},
   "outputs": [
    {
     "data": {
      "text/plain": [
       "6"
      ]
     },
     "execution_count": 16,
     "metadata": {},
     "output_type": "execute_result"
    }
   ],
   "source": [
    "6 *1\n"
   ]
  },
  {
   "cell_type": "code",
   "execution_count": 17,
   "id": "12e24f19",
   "metadata": {},
   "outputs": [
    {
     "data": {
      "text/plain": [
       "8"
      ]
     },
     "execution_count": 17,
     "metadata": {},
     "output_type": "execute_result"
    }
   ],
   "source": [
    "7 +1"
   ]
  },
  {
   "cell_type": "code",
   "execution_count": 18,
   "id": "a7c1e08a",
   "metadata": {},
   "outputs": [
    {
     "data": {
      "text/plain": [
       "33.684000000000005"
      ]
     },
     "execution_count": 18,
     "metadata": {},
     "output_type": "execute_result"
    }
   ],
   "source": [
    "1.234 + 32.45"
   ]
  },
  {
   "cell_type": "code",
   "execution_count": 23,
   "id": "6b8a4119",
   "metadata": {},
   "outputs": [
    {
     "name": "stdout",
     "output_type": "stream",
     "text": [
      "Hello world..\n"
     ]
    }
   ],
   "source": [
    "print(\"Hello world..\")"
   ]
  },
  {
   "cell_type": "code",
   "execution_count": 24,
   "id": "ecdb4e0b",
   "metadata": {},
   "outputs": [
    {
     "data": {
      "text/plain": [
       "' this is my\\nfirst line of \\nstatement'"
      ]
     },
     "execution_count": 24,
     "metadata": {},
     "output_type": "execute_result"
    }
   ],
   "source": [
    "\"\"\" this is my\n",
    "first line of \n",
    "statement\"\"\""
   ]
  },
  {
   "cell_type": "code",
   "execution_count": 28,
   "id": "159ce4bd",
   "metadata": {},
   "outputs": [
    {
     "name": "stdout",
     "output_type": "stream",
     "text": [
      "this is my first ine     this is my second line     this is my thrid line \n"
     ]
    }
   ],
   "source": [
    "str = \"this is my first ine     this is my second line     this is my thrid line \"\n",
    "print(str)"
   ]
  },
  {
   "cell_type": "code",
   "execution_count": 32,
   "id": "3dc1ca32",
   "metadata": {},
   "outputs": [
    {
     "name": "stdout",
     "output_type": "stream",
     "text": [
      "hello\n"
     ]
    }
   ],
   "source": [
    "\"\"\"\" this is my c\n",
    "\n",
    "comment \"\"\"\n",
    "print(\"hello\")"
   ]
  },
  {
   "cell_type": "code",
   "execution_count": 34,
   "id": "a298781b",
   "metadata": {},
   "outputs": [
    {
     "name": "stdout",
     "output_type": "stream",
     "text": [
      "enter you nameKumar\n",
      "Kumar Welcome to python\n"
     ]
    }
   ],
   "source": [
    "name = input(\"enter you name\")\n",
    "print(name+\" Welcome to python\")"
   ]
  },
  {
   "cell_type": "code",
   "execution_count": 35,
   "id": "9db3a69e",
   "metadata": {},
   "outputs": [
    {
     "name": "stdout",
     "output_type": "stream",
     "text": [
      "Enter first number10\n",
      "Enter second number20\n"
     ]
    }
   ],
   "source": [
    "a = input(\"Enter first number\")\n",
    "b = input(\"Enter second number\")"
   ]
  },
  {
   "cell_type": "code",
   "execution_count": 38,
   "id": "a80ea48b",
   "metadata": {},
   "outputs": [
    {
     "data": {
      "text/plain": [
       "str"
      ]
     },
     "execution_count": 38,
     "metadata": {},
     "output_type": "execute_result"
    }
   ],
   "source": [
    "type(a)"
   ]
  },
  {
   "cell_type": "code",
   "execution_count": 47,
   "id": "8f37e3bf",
   "metadata": {},
   "outputs": [
    {
     "data": {
      "text/plain": [
       "'20'"
      ]
     },
     "execution_count": 47,
     "metadata": {},
     "output_type": "execute_result"
    }
   ],
   "source": [
    "type(b)\n",
    "b"
   ]
  },
  {
   "cell_type": "code",
   "execution_count": 42,
   "id": "f2174071",
   "metadata": {},
   "outputs": [],
   "source": [
    "c = int(a)+int(b)"
   ]
  },
  {
   "cell_type": "code",
   "execution_count": 48,
   "id": "d4289eea",
   "metadata": {},
   "outputs": [
    {
     "data": {
      "text/plain": [
       "30"
      ]
     },
     "execution_count": 48,
     "metadata": {},
     "output_type": "execute_result"
    }
   ],
   "source": [
    "c"
   ]
  },
  {
   "cell_type": "code",
   "execution_count": 49,
   "id": "a6dc9b23",
   "metadata": {},
   "outputs": [
    {
     "data": {
      "text/plain": [
       "int"
      ]
     },
     "execution_count": 49,
     "metadata": {},
     "output_type": "execute_result"
    }
   ],
   "source": [
    "type(c)"
   ]
  },
  {
   "cell_type": "code",
   "execution_count": 50,
   "id": "e81bdfe8",
   "metadata": {},
   "outputs": [
    {
     "name": "stdout",
     "output_type": "stream",
     "text": [
      "value of a is  10\n",
      "value of b is  20\n",
      "sum is  30\n"
     ]
    }
   ],
   "source": [
    "print(\"value of a is \", a)\n",
    "print(\"value of b is \", b)\n",
    "print(\"sum is \", c)"
   ]
  },
  {
   "cell_type": "code",
   "execution_count": 53,
   "id": "0d367a9b",
   "metadata": {},
   "outputs": [
    {
     "name": "stdout",
     "output_type": "stream",
     "text": [
      "Enter first number10\n",
      "Enter second number29\n",
      "The sum is  39\n",
      "The diff is  -19\n",
      "The product is  290\n",
      "The quotient is  0.3448275862068966\n",
      "The reminder is  10\n"
     ]
    }
   ],
   "source": [
    "a = int(input(\"Enter first number\"))\n",
    "b = int(input (\"Enter second number\"))\n",
    "c = a+b\n",
    "d = a-b\n",
    "e = a*b\n",
    "f = a/b\n",
    "g = a%b\n",
    "\n",
    "print(\"The sum is \",c)\n",
    "print(\"The diff is \",d)\n",
    "print(\"The product is \",e)\n",
    "print(\"The quotient is \",f)\n",
    "print(\"The reminder is \",g)"
   ]
  },
  {
   "cell_type": "code",
   "execution_count": 58,
   "id": "73570a1a",
   "metadata": {},
   "outputs": [
    {
     "name": "stdout",
     "output_type": "stream",
     "text": [
      " b is bigger\n",
      "Next line\n",
      "next nextline\n"
     ]
    }
   ],
   "source": [
    "a=10\n",
    "b=100\n",
    "if a < b:\n",
    "    print(\" b is bigger\")\n",
    "    print(\"Next line\")\n",
    "print(\"next nextline\")"
   ]
  },
  {
   "cell_type": "code",
   "execution_count": 66,
   "id": "5cce3d41",
   "metadata": {},
   "outputs": [
    {
     "name": "stdout",
     "output_type": "stream",
     "text": [
      "a is bigger\n",
      "next line in false block\n"
     ]
    }
   ],
   "source": [
    "a=10000\n",
    "b=10\n",
    "if a < b:\n",
    "    print(\"b is bigger\")\n",
    "    print(\"next line in true block\")\n",
    "else:\n",
    "    print(\"a is bigger\")\n",
    "    print(\"next line in false block\")"
   ]
  },
  {
   "cell_type": "code",
   "execution_count": 72,
   "id": "44fde618",
   "metadata": {},
   "outputs": [
    {
     "name": "stdout",
     "output_type": "stream",
     "text": [
      "Medium consumption\n"
     ]
    }
   ],
   "source": [
    "units = 73\n",
    "if units >= 100:\n",
    "    print(\"Large consumpiton\")\n",
    "elif units >=70 and units < 100:\n",
    "    print(\"Medium consumption\")\n",
    "elif units >=50 and units <70:\n",
    "    print(\"Low Consumption\")\n",
    "else:\n",
    "    print(\"very low consumption\")"
   ]
  },
  {
   "cell_type": "code",
   "execution_count": 76,
   "id": "da25250a",
   "metadata": {},
   "outputs": [
    {
     "name": "stdout",
     "output_type": "stream",
     "text": [
      "a is bigger element\n"
     ]
    }
   ],
   "source": [
    "a =1000\n",
    "b=200\n",
    "c=30\n",
    "\n",
    "if a < b:\n",
    "    if b < c:\n",
    "        print(\"c is bigger element\")\n",
    "    else:\n",
    "        print(\"b is bigger element\")\n",
    "else:\n",
    "    if a < c:\n",
    "        print(\"c is bigger element\")\n",
    "    else:\n",
    "        print(\"a is bigger element\")"
   ]
  },
  {
   "cell_type": "code",
   "execution_count": null,
   "id": "661a6464",
   "metadata": {},
   "outputs": [],
   "source": []
  }
 ],
 "metadata": {
  "kernelspec": {
   "display_name": "Python 3 (ipykernel)",
   "language": "python",
   "name": "python3"
  },
  "language_info": {
   "codemirror_mode": {
    "name": "ipython",
    "version": 3
   },
   "file_extension": ".py",
   "mimetype": "text/x-python",
   "name": "python",
   "nbconvert_exporter": "python",
   "pygments_lexer": "ipython3",
   "version": "3.9.13"
  }
 },
 "nbformat": 4,
 "nbformat_minor": 5
}
