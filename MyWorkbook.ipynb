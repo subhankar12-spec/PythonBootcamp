{
 "cells": [
  {
   "cell_type": "code",
   "execution_count": null,
   "id": "69942806",
   "metadata": {},
   "outputs": [],
   "source": [
    "########################### Day 1 ############################################"
   ]
  },
  {
   "cell_type": "code",
   "execution_count": 19,
   "id": "34efde3d",
   "metadata": {},
   "outputs": [
    {
     "name": "stdout",
     "output_type": "stream",
     "text": [
      "Subhankar\n"
     ]
    }
   ],
   "source": [
    "print(\"Subhankar\")"
   ]
  },
  {
   "cell_type": "code",
   "execution_count": 9,
   "id": "bd58d5aa",
   "metadata": {},
   "outputs": [
    {
     "name": "stdout",
     "output_type": "stream",
     "text": [
      "Subhankar\n",
      "Welcome Subhankar\n"
     ]
    }
   ],
   "source": [
    "name=input()\n",
    "print(\"Welcome \"+name)"
   ]
  },
  {
   "cell_type": "code",
   "execution_count": 11,
   "id": "944e3219",
   "metadata": {},
   "outputs": [
    {
     "name": "stdout",
     "output_type": "stream",
     "text": [
      "Enter First Number8\n",
      "Enter Second Number2\n",
      "Sum= 10\n",
      "Difference 6\n",
      "Product 16\n",
      "Quotient 4.0\n"
     ]
    }
   ],
   "source": [
    "number1=int(input(\"Enter First Number\"))\n",
    "number2=int(input(\"Enter Second Number\"))\n",
    "print(\"Sum=\",number1+number2)\n",
    "print(\"Difference\",number1-number2)\n",
    "print(\"Product\",number1*number2)\n",
    "print(\"Quotient\",number1/number2)"
   ]
  },
  {
   "cell_type": "code",
   "execution_count": 13,
   "id": "cc84f66c",
   "metadata": {},
   "outputs": [
    {
     "name": "stdout",
     "output_type": "stream",
     "text": [
      "Enter First Number8\n",
      "Enter Second Number4\n",
      "8\n"
     ]
    }
   ],
   "source": [
    "a=int(input(\"Enter First Number\"))\n",
    "b=int(input(\"Enter Second Number\"))\n",
    "if(a>b):\n",
    "    print(a)\n",
    "else:\n",
    "    print(b)"
   ]
  },
  {
   "cell_type": "code",
   "execution_count": 17,
   "id": "78e77315",
   "metadata": {},
   "outputs": [
    {
     "name": "stdout",
     "output_type": "stream",
     "text": [
      "Enter First Number3\n",
      "Enter Second Number2\n",
      "Enter Second Number1\n",
      "3  is greatest\n"
     ]
    }
   ],
   "source": [
    "a=int(input(\"Enter First Number\"))\n",
    "b=int(input(\"Enter Second Number\"))\n",
    "c=int(input(\"Enter Second Number\"))\n",
    "if(a>b and a>c):\n",
    "    print(a,\" is greatest\")\n",
    "elif(b>c and b>a):\n",
    "    print(b,\" is greatest\")\n",
    "else:\n",
    "     print(c,\" is greatest\")"
   ]
  },
  {
   "cell_type": "code",
   "execution_count": 31,
   "id": "15d2b0f4",
   "metadata": {},
   "outputs": [
    {
     "name": "stdout",
     "output_type": "stream",
     "text": [
      "Enter your Consumption TypeIndustry\n",
      "Enter your Consumption Unit10\n",
      "Your bill 30\n"
     ]
    }
   ],
   "source": [
    "type=input(\"Enter your Consumption Type\")\n",
    "unit=int(input(\"Enter your Consumption Unit\"))\n",
    "\n",
    "if(type==\"Agricuture\"):\n",
    "    if(unit>200):\n",
    "        total=unit*3\n",
    "    elif(unit>100 and unit<=200):\n",
    "         total=unit*2\n",
    "    else:\n",
    "         total=unit\n",
    "elif(type==\"Industry\"):\n",
    "    if(unit>200):\n",
    "        total=unit*5\n",
    "    elif(unit>100 and unit<=200):\n",
    "         total=unit*4\n",
    "    else:\n",
    "         total=unit*3\n",
    "else:\n",
    "    if(unit>200):\n",
    "        total=unit*4\n",
    "    elif(unit>100 and unit<=200):\n",
    "         total=unit*3\n",
    "    else:\n",
    "         total=unit*2\n",
    "print(\"Your bill\",total)\n",
    "        "
   ]
  },
  {
   "cell_type": "code",
   "execution_count": 33,
   "id": "f0fd30cd",
   "metadata": {},
   "outputs": [
    {
     "name": "stdout",
     "output_type": "stream",
     "text": [
      "15\n",
      "30\n",
      "45\n",
      "60\n",
      "75\n",
      "90\n"
     ]
    }
   ],
   "source": [
    "for i in range(1,101):\n",
    "    if(i%3==0 and i%5==0):\n",
    "        print(i)"
   ]
  },
  {
   "cell_type": "code",
   "execution_count": 57,
   "id": "965cecb1",
   "metadata": {},
   "outputs": [
    {
     "name": "stdout",
     "output_type": "stream",
     "text": [
      "Enter the value of n10\n",
      "1  1  2  3  5  8  13  21  34  55  "
     ]
    }
   ],
   "source": [
    "a,b=1,1\n",
    "\n",
    "ans=0\n",
    "n=int(input(\"Enter the value of n\"))\n",
    "print(1,\" \",end=\"\")\n",
    "print(1,\" \",end=\"\")\n",
    "for i in range(1,n-1):\n",
    "    ans=a+b\n",
    "    print(ans,\" \",end=\"\")\n",
    "    a=b\n",
    "    b=ans\n",
    "    "
   ]
  },
  {
   "cell_type": "code",
   "execution_count": 49,
   "id": "71699911",
   "metadata": {},
   "outputs": [
    {
     "name": "stdout",
     "output_type": "stream",
     "text": [
      "Enter your number3\n",
      "Enter your number5\n",
      "Enter your number4\n",
      "Enter your number-1\n",
      "odd sum 8\n",
      "Even Sum 4\n"
     ]
    }
   ],
   "source": [
    "odd,even=0,0\n",
    "while(True):\n",
    "    n=int(input(\"Enter your number\"))\n",
    "    if(n<0):\n",
    "        break\n",
    "    if(n%2==1):\n",
    "        odd+=n\n",
    "    else:\n",
    "        even+=n\n",
    "print(\"odd sum\",odd)\n",
    "print(\"Even Sum\",even)"
   ]
  },
  {
   "cell_type": "code",
   "execution_count": 55,
   "id": "947ba380",
   "metadata": {},
   "outputs": [
    {
     "name": "stdout",
     "output_type": "stream",
     "text": [
      "Enter the value of n7\n",
      "* \n",
      "\n",
      "* * \n",
      "\n",
      "* * * \n",
      "\n",
      "* * * * \n",
      "\n",
      "* * * * * \n",
      "\n",
      "* * * * * * \n",
      "\n",
      "* * * * * * * \n",
      "\n"
     ]
    }
   ],
   "source": [
    "n=int(input(\"Enter the value of n\"))\n",
    "for i in range(1,n+1):\n",
    "    for j in range(1,i+1):\n",
    "        print(\"*\",end=\" \")\n",
    "    print('\\n')"
   ]
  },
  {
   "cell_type": "code",
   "execution_count": 64,
   "id": "33a26fcd",
   "metadata": {},
   "outputs": [
    {
     "name": "stdout",
     "output_type": "stream",
     "text": [
      "Enter the value of n1\n",
      "It is a Prime\n"
     ]
    }
   ],
   "source": [
    "n=int(input(\"Enter the value of n\"))\n",
    "flag=True\n",
    "for i in range(2,n):\n",
    "    if(n%i==0):\n",
    "        flag=False\n",
    "if(flag==False):\n",
    "    print(\"Not a Prime\")\n",
    "else:\n",
    "     print(\"It is a Prime\")\n",
    "    "
   ]
  },
  {
   "cell_type": "code",
   "execution_count": 85,
   "id": "448994c0",
   "metadata": {},
   "outputs": [
    {
     "name": "stdout",
     "output_type": "stream",
     "text": [
      "Enter the value of n323\n",
      "It is a palindrome number\n"
     ]
    }
   ],
   "source": [
    "n=int(input(\"Enter the value of n\"))\n",
    "copy=n\n",
    "sum=0\n",
    "while(n>0):\n",
    "    x=n%10\n",
    "    sum=x+(10*sum)\n",
    "    n=n//10\n",
    "if(sum==copy):\n",
    "    print(\"It is a palindrome number\")\n",
    "else:  \n",
    "     print(\"It is not a palindrome number\")\n",
    "    \n",
    "    "
   ]
  },
  {
   "cell_type": "code",
   "execution_count": 92,
   "id": "0c789556",
   "metadata": {},
   "outputs": [
    {
     "name": "stdout",
     "output_type": "stream",
     "text": [
      "Enter the value of n153\n",
      "Armstrong Number\n"
     ]
    }
   ],
   "source": [
    "n=int(input(\"Enter the value of n\"))\n",
    "copy=n\n",
    "sum=0\n",
    "while(n>0):\n",
    "    x=n%10\n",
    "    sum=sum+(x*x*x)\n",
    "    n=n//10\n",
    "if(sum==copy):\n",
    "    print(\"Armstrong Number\")\n",
    "else:\n",
    "    print(\"Not an Armstrong\")"
   ]
  },
  {
   "cell_type": "code",
   "execution_count": 96,
   "id": "96e78e59",
   "metadata": {},
   "outputs": [
    {
     "name": "stdout",
     "output_type": "stream",
     "text": [
      "Enter the value of n5\n",
      "Factorial of 5 is 120\n"
     ]
    }
   ],
   "source": [
    "n=int(input(\"Enter the value of n\"))\n",
    "copy=n\n",
    "prod=1\n",
    "for i in range(1,n+1):\n",
    "    prod*=i\n",
    "print(\"Factorial of %d is\"% n ,prod)"
   ]
  },
  {
   "cell_type": "code",
   "execution_count": 99,
   "id": "a9450961",
   "metadata": {},
   "outputs": [
    {
     "name": "stdout",
     "output_type": "stream",
     "text": [
      "Enter the value of n20\n",
      "Enter the value of r3\n",
      "The value of ncr is 1140.0\n"
     ]
    }
   ],
   "source": [
    "def factorial(n):\n",
    "    prod=1\n",
    "    for i in range(1,n+1):\n",
    "        prod*=i\n",
    "    return prod\n",
    "\n",
    "n=int(input(\"Enter the value of n\"))\n",
    "r=int(input(\"Enter the value of r\"))\n",
    "ncr=factorial(n)/(factorial(r)*factorial(n-r))\n",
    "\n",
    "print(\"The value of ncr is\",ncr)"
   ]
  },
  {
   "cell_type": "code",
   "execution_count": null,
   "id": "ac3f1e66",
   "metadata": {},
   "outputs": [],
   "source": [
    "######################Day 2################################################################"
   ]
  },
  {
   "cell_type": "code",
   "execution_count": 103,
   "id": "ec78a036",
   "metadata": {
    "scrolled": true
   },
   "outputs": [
    {
     "name": "stdout",
     "output_type": "stream",
     "text": [
      "[1, 2, 3, 4, 5, 6, 7, 8]\n",
      "9\n"
     ]
    }
   ],
   "source": [
    "list=[1,2,3,4,5,6,7,8,9]\n",
    "print(list[:-1])\n",
    "print(list[-1])"
   ]
  },
  {
   "cell_type": "code",
   "execution_count": 23,
   "id": "b997c10e",
   "metadata": {},
   "outputs": [
    {
     "data": {
      "text/plain": [
       "6"
      ]
     },
     "execution_count": 23,
     "metadata": {},
     "output_type": "execute_result"
    }
   ],
   "source": [
    "def add(*x):\n",
    "    sum=0\n",
    "    for i in x:\n",
    "        sum+=i\n",
    "    return sum\n",
    "add(1,2,3)"
   ]
  },
  {
   "cell_type": "code",
   "execution_count": 31,
   "id": "020d01a6",
   "metadata": {},
   "outputs": [
    {
     "data": {
      "text/plain": [
       "6"
      ]
     },
     "execution_count": 31,
     "metadata": {},
     "output_type": "execute_result"
    }
   ],
   "source": [
    "def add(a,b,c):\n",
    "    sum=0\n",
    "    return a+b+c\n",
    "li=[1,2,3]\n",
    "add(*li)"
   ]
  },
  {
   "cell_type": "code",
   "execution_count": 106,
   "id": "0e55da87",
   "metadata": {},
   "outputs": [],
   "source": [
    "squares=[n**n for n in range(1,10) if n%2==0]"
   ]
  },
  {
   "cell_type": "code",
   "execution_count": 107,
   "id": "e5cc9587",
   "metadata": {},
   "outputs": [
    {
     "data": {
      "text/plain": [
       "[4, 256, 46656, 16777216]"
      ]
     },
     "execution_count": 107,
     "metadata": {},
     "output_type": "execute_result"
    }
   ],
   "source": [
    "squares"
   ]
  },
  {
   "cell_type": "code",
   "execution_count": 5,
   "id": "c792f750",
   "metadata": {},
   "outputs": [
    {
     "name": "stdout",
     "output_type": "stream",
     "text": [
      "18\n"
     ]
    },
    {
     "data": {
      "text/plain": [
       "6"
      ]
     },
     "execution_count": 5,
     "metadata": {},
     "output_type": "execute_result"
    }
   ],
   "source": [
    "x=lambda a,b:a*b\n",
    "print(x(6,3))\n",
    "(lambda a,b:a*b)(2,3)"
   ]
  },
  {
   "cell_type": "code",
   "execution_count": 14,
   "id": "516cb67d",
   "metadata": {},
   "outputs": [],
   "source": [
    "add= lambda *x:sum(x)"
   ]
  },
  {
   "cell_type": "code",
   "execution_count": 15,
   "id": "b9ad6725",
   "metadata": {},
   "outputs": [
    {
     "data": {
      "text/plain": [
       "9"
      ]
     },
     "execution_count": 15,
     "metadata": {},
     "output_type": "execute_result"
    }
   ],
   "source": [
    "add(2,3,4)"
   ]
  },
  {
   "cell_type": "code",
   "execution_count": 34,
   "id": "ba66a6f2",
   "metadata": {},
   "outputs": [
    {
     "data": {
      "text/plain": [
       "12"
      ]
     },
     "execution_count": 34,
     "metadata": {},
     "output_type": "execute_result"
    }
   ],
   "source": [
    "higher_order=lambda x,fun : x+fun(x)\n",
    "higher_order(3,lambda x:x*x)"
   ]
  },
  {
   "cell_type": "code",
   "execution_count": 110,
   "id": "62809c8c",
   "metadata": {},
   "outputs": [
    {
     "name": "stdout",
     "output_type": "stream",
     "text": [
      "<_io.TextIOWrapper name='Desktop/user09.txt' mode='r' encoding='cp1252'>\n"
     ]
    },
    {
     "data": {
      "text/plain": [
       "'Subhankar\\nLocation:Desktop/user09.txt'"
      ]
     },
     "execution_count": 110,
     "metadata": {},
     "output_type": "execute_result"
    }
   ],
   "source": [
    "file=open(\"Desktop/user09.txt\",\"r\")\n",
    "# for x in file:\n",
    "#     print(x)\n",
    "# print(file.read())\n",
    "print(file)\n",
    "file.read()\n",
    "# file.readlines()\n",
    "# print(file.readlines())"
   ]
  },
  {
   "cell_type": "code",
   "execution_count": 99,
   "id": "f1d14344",
   "metadata": {},
   "outputs": [],
   "source": [
    "file=open(\"Desktop/testing.txt\",\"w\")\n",
    "file.write(\"This is Another2\")\n",
    "file.write(\"Testing file handling\")\n",
    "file.close()\n"
   ]
  },
  {
   "cell_type": "code",
   "execution_count": 80,
   "id": "0e205812",
   "metadata": {},
   "outputs": [],
   "source": [
    "file=open(\"Desktop/testing.txt\",\"a\")\n",
    "file.write(\"This is Another3\")\n",
    "file.close()\n"
   ]
  },
  {
   "cell_type": "code",
   "execution_count": 96,
   "id": "6783caf1",
   "metadata": {},
   "outputs": [
    {
     "name": "stdout",
     "output_type": "stream",
     "text": [
      "slno,name,age\n",
      "\n",
      "1,John,24\n",
      "\n",
      "2,Peter,43\n",
      "\n",
      "3,Stewie,4\n",
      "\n",
      "4,Lois,32\n",
      "\n",
      "\n"
     ]
    }
   ],
   "source": [
    "import csv\n",
    "header=[\"slno\",\"name\",\"age\"]\n",
    "data=[[1,\"John\",24], [2,\"Peter\",43],[3,\"Stewie\",4],[4,\"Lois\",32]]\n",
    "filename=\"Desktop/Testing.csv\"\n",
    "with open(filename,'w') as file:\n",
    "    csvwriter=csv.writer(file)\n",
    "    csvwriter.writerow(header)\n",
    "    csvwriter.writerows(data)\n",
    "with open(filename,'r') as file:\n",
    "    content=file.read()\n",
    "print(content)"
   ]
  },
  {
   "cell_type": "code",
   "execution_count": 40,
   "id": "2815fd7c",
   "metadata": {},
   "outputs": [
    {
     "name": "stdout",
     "output_type": "stream",
     "text": [
      "Name Subhabkar\n",
      "Class XII\n",
      "Roll 21\n"
     ]
    }
   ],
   "source": [
    "class Student:\n",
    "    name=None\n",
    "    __roll=None\n",
    "    classs=None\n",
    "    \n",
    "    def __init__(self,name,roll,classs):\n",
    "        self.name=name\n",
    "        self.__roll=roll\n",
    "        self.classs=classs\n",
    "        \n",
    "    def showDetails(self):\n",
    "        print(\"Name\",self.name)\n",
    "        print(\"Class\",self.classs)\n",
    "        print(\"Roll\",self.__roll)\n",
    "        \n",
    "    \n",
    "student1=Student(\"Subhabkar\",21,\"XII\")\n",
    "student1.showDetails()\n"
   ]
  },
  {
   "cell_type": "code",
   "execution_count": 95,
   "id": "1977c0cc",
   "metadata": {},
   "outputs": [
    {
     "name": "stdout",
     "output_type": "stream",
     "text": [
      " A Called\n",
      "B called\n",
      "1 2 3\n"
     ]
    }
   ],
   "source": [
    "class A:\n",
    "    a=0\n",
    "    def __init__(self):\n",
    "        print(\" A Called\")\n",
    "        self.a=1\n",
    "    def showDetailsA(self):\n",
    "        print(self.a)\n",
    "        \n",
    "class B():\n",
    "    b=0\n",
    "    def __init__(self):\n",
    "        print(\"B called\")\n",
    "        self.b=2\n",
    "    def showDetailsB(self):\n",
    "        print(self.a)       \n",
    "\n",
    "class C(A,B):\n",
    "    c=0\n",
    "    def __init__(self):\n",
    "        A.__init__(self)\n",
    "        B.__init__(self)\n",
    "        self.c=3\n",
    "    def showDetailsC(self):\n",
    "        print(self.a,self.b,self.c)\n",
    "\n",
    "c=C()\n",
    "c.showDetailsC()"
   ]
  },
  {
   "cell_type": "code",
   "execution_count": 89,
   "id": "bb350efa",
   "metadata": {},
   "outputs": [
    {
     "name": "stdout",
     "output_type": "stream",
     "text": [
      "B called\n",
      " A Called\n",
      "1\n"
     ]
    }
   ],
   "source": [
    "class A:\n",
    "    a=0\n",
    "    def __init__(self):\n",
    "        print(\" A Called\")\n",
    "        self.a=1\n",
    "    def showDetailsA(self):\n",
    "        print(self.a)\n",
    "\n",
    "class B(A):\n",
    "    b=0\n",
    "    def __init__(self):\n",
    "        print(\"B called\")\n",
    "        A.__init__(self)\n",
    "        self.b=2\n",
    "    def showDetailsB(self):\n",
    "        print(self.a)\n",
    "        \n",
    "b=B()\n",
    "b.showDetailsB()"
   ]
  },
  {
   "cell_type": "code",
   "execution_count": 96,
   "id": "ad4bfbb1",
   "metadata": {},
   "outputs": [],
   "source": [
    "################# Exception #######################"
   ]
  },
  {
   "cell_type": "code",
   "execution_count": 97,
   "id": "f4625264",
   "metadata": {},
   "outputs": [
    {
     "name": "stdout",
     "output_type": "stream",
     "text": [
      "Exception Occurred\n"
     ]
    }
   ],
   "source": [
    "try:\n",
    "    a=10/0\n",
    "    print(\"a\")\n",
    "except:\n",
    "    print(\"Exception Occurred\")"
   ]
  },
  {
   "cell_type": "code",
   "execution_count": 100,
   "id": "7826fe53",
   "metadata": {},
   "outputs": [
    {
     "name": "stdout",
     "output_type": "stream",
     "text": [
      "ZeroDivisionError Occurred\n"
     ]
    }
   ],
   "source": [
    "try:\n",
    "    a=10/0\n",
    "    print(\"a\")\n",
    "except TypeError:\n",
    "    print(\"TypeError Occurred\")\n",
    "except ZeroDivisionError:\n",
    "    print(\"ZeroDivisionError Occurred\")"
   ]
  },
  {
   "cell_type": "code",
   "execution_count": 121,
   "id": "9a5d62ec",
   "metadata": {},
   "outputs": [
    {
     "name": "stdout",
     "output_type": "stream",
     "text": [
      "2\n",
      "0\n",
      "Enter Non-Zero Denominator\n",
      "Program ended\n"
     ]
    }
   ],
   "source": [
    "a=int(input())\n",
    "b=int(input())\n",
    "try:\n",
    "    if(b==0):\n",
    "        raise ZeroDivisionError\n",
    "    else:\n",
    "        pass\n",
    "        ans=a/b\n",
    "        print(ans)\n",
    "except ZeroDivisionError:\n",
    "    print(\"Enter Non-Zero Denominator\")\n",
    "finally:\n",
    "    print(\"Program ended\")\n"
   ]
  },
  {
   "cell_type": "code",
   "execution_count": 126,
   "id": "a03b13f1",
   "metadata": {},
   "outputs": [
    {
     "name": "stdout",
     "output_type": "stream",
     "text": [
      "60\n",
      "You are allowed to Enter\n"
     ]
    }
   ],
   "source": [
    "class CustomException(Exception):\n",
    "    pass\n",
    "    \n",
    "age=int(input())\n",
    "try:\n",
    "    if age>80:\n",
    "        raise CustomException\n",
    "    else:\n",
    "        print(\"You are allowed to Enter\")\n",
    "except CustomException:\n",
    "    print(\"You are way too old\")"
   ]
  },
  {
   "cell_type": "code",
   "execution_count": 2,
   "id": "d3be8827",
   "metadata": {},
   "outputs": [],
   "source": [
    "#########Regex###########"
   ]
  },
  {
   "cell_type": "code",
   "execution_count": 8,
   "id": "88c5eb94",
   "metadata": {},
   "outputs": [
    {
     "name": "stdout",
     "output_type": "stream",
     "text": [
      "['ai', 'ai']\n"
     ]
    }
   ],
   "source": [
    "import re\n",
    "\n",
    "txt = \"The rain in Spain\"\n",
    "x = re.findall(\"ai\", txt) \n",
    "print(x)"
   ]
  },
  {
   "cell_type": "code",
   "execution_count": 9,
   "id": "39457ee8",
   "metadata": {},
   "outputs": [
    {
     "name": "stdout",
     "output_type": "stream",
     "text": [
      "<re.Match object; span=(7, 13), match='portal'>\n",
      "Start Index: 7\n",
      "End Index: 13\n"
     ]
    }
   ],
   "source": [
    "import re\n",
    "\n",
    "s = 'python portal: A computer science portal for students'\n",
    "\n",
    "match = re.search('portal', s)\n",
    "print('Start Index:', match.start())\n",
    "print('End Index:', match.end())"
   ]
  },
  {
   "cell_type": "code",
   "execution_count": 36,
   "id": "d0786a67",
   "metadata": {},
   "outputs": [
    {
     "name": "stdout",
     "output_type": "stream",
     "text": [
      "Match\n"
     ]
    }
   ],
   "source": [
    "import re\n",
    "password='sUbhankar@98'\n",
    "regex='(?=.*[A-Z])(?=.*[a-z])(?=.*[0-9])(?=.*[!@#$])'\n",
    "match=re.match(regex,password)\n",
    "if match:\n",
    "    print(\"Match\")\n",
    "else:\n",
    "    print('No Match')"
   ]
  },
  {
   "cell_type": "code",
   "execution_count": 37,
   "id": "fd08c5ac",
   "metadata": {},
   "outputs": [],
   "source": [
    "############ Excel ############"
   ]
  },
  {
   "cell_type": "code",
   "execution_count": 41,
   "id": "202805d0",
   "metadata": {},
   "outputs": [
    {
     "name": "stdout",
     "output_type": "stream",
     "text": [
      "The data rows  6\n",
      "The data columns 1\n",
      "The first column data\n",
      "Sam\n",
      "Ram\n",
      "Devin\n",
      "Kevin\n",
      "The first row data\n",
      "Sam "
     ]
    }
   ],
   "source": [
    "#Working with python excel using openpyxl\n",
    "import openpyxl\n",
    "path = \"Desktop/data.xlsx\"\n",
    "wb_obj = openpyxl.load_workbook(path)\n",
    "sheet_obj = wb_obj.active\n",
    "\n",
    "maxrows = sheet_obj.max_row\n",
    "maxcolumns = sheet_obj.max_column\n",
    "print(\"The data rows \", maxrows)\n",
    "print(\"The data columns\",maxcolumns)\n",
    "\n",
    "print(\"The first column data\")\n",
    "for i in range(2,maxrows):\n",
    "    cell_obj = sheet_obj.cell(row = i, column = 1)\n",
    "    print(cell_obj.value)\n",
    "print(\"The first row data\")\n",
    "for i in range(1, maxcolumns + 1):\n",
    "    cell_obj = sheet_obj.cell(row = 2, column = i)\n",
    "    print(cell_obj.value, end = \" \")"
   ]
  },
  {
   "cell_type": "code",
   "execution_count": 42,
   "id": "174af3a0",
   "metadata": {},
   "outputs": [
    {
     "name": "stdout",
     "output_type": "stream",
     "text": [
      "The workboo title:Sheet1\n",
      "Name \n",
      "Sam \n",
      "Ram \n",
      "Devin \n",
      "Kevin \n",
      "Louis \n"
     ]
    }
   ],
   "source": [
    "sheet_title = sheet_obj.title\n",
    "print(\"The workboo title:\"+sheet_title)\n",
    "\n",
    "for i in range(1,maxrows+1):\n",
    "    for j in range(1,maxcolumns+1):\n",
    "        cell_obj = sheet_obj.cell(row = i, column = j)\n",
    "        print(cell_obj.value, end=\" \")\n",
    "    print()"
   ]
  },
  {
   "cell_type": "code",
   "execution_count": 52,
   "id": "fce3b088",
   "metadata": {},
   "outputs": [
    {
     "name": "stdout",
     "output_type": "stream",
     "text": [
      "Data Written\n"
     ]
    }
   ],
   "source": [
    "import openpyxl\n",
    "wb = openpyxl.Workbook()\n",
    "sheet = wb.active\n",
    "cell_obj = sheet.cell(row = 1, column = 1)\n",
    "cell_obj.value=\"sai\"\n",
    "wb.save(\"Desktop/demowrite.xlsx\")\n",
    "print(\"Data Written\")"
   ]
  },
  {
   "cell_type": "code",
   "execution_count": 54,
   "id": "753f3cbf",
   "metadata": {},
   "outputs": [
    {
     "name": "stdout",
     "output_type": "stream",
     "text": [
      "Data written\n"
     ]
    }
   ],
   "source": [
    "import openpyxl\n",
    "wb = openpyxl.Workbook()\n",
    "sheet = wb.active\n",
    "c1 = sheet.cell(row = 1, column = 1)\n",
    "c1.value = \"ANKIT\"\n",
    "c2 = sheet.cell(row= 1 , column = 2)\n",
    "c2.value = \"RAI\"\n",
    "c3 = sheet['A2']\n",
    "c3.value = \"RAHUL\"\n",
    "c4 = sheet['B2']\n",
    "c4.value = \"RAI\"\n",
    "wb.save(\"Desktop/demowrite2.xlsx\")\n",
    "print(\"Data written\")"
   ]
  },
  {
   "cell_type": "code",
   "execution_count": 56,
   "id": "d11006df",
   "metadata": {},
   "outputs": [
    {
     "name": "stdout",
     "output_type": "stream",
     "text": [
      "New sheet is added...\n"
     ]
    }
   ],
   "source": [
    "\n",
    "#wb = openpyxl.Workbook()\n",
    "wb.create_sheet(index = 1 , title = \"demo sheet2\")\n",
    "wb.save(\"Desktop/demowrite.xlsx\")\n",
    "print(\"New sheet is added...\")"
   ]
  },
  {
   "cell_type": "code",
   "execution_count": 58,
   "id": "fbf7c8f4",
   "metadata": {},
   "outputs": [
    {
     "name": "stdout",
     "output_type": "stream",
     "text": [
      "Data written to excel sheet\n"
     ]
    }
   ],
   "source": [
    "#writing data to excel using xlsxwriter\n",
    "import xlsxwriter\n",
    "workbook = xlsxwriter.Workbook('Desktop/Example2.xlsx')\n",
    "worksheet = workbook.add_worksheet()\n",
    "row = 0\n",
    "column = 0\n",
    "content = [\"ankit\", \"rahul\", \"priya\", \"harshita\",\n",
    "\t\t\t\t\t\"sumit\", \"neeraj\", \"shivam\"]\n",
    "for item in content :\n",
    "    worksheet.write(row, column, item)\n",
    "    column+= 1\n",
    "workbook.close()\n",
    "print(\"Data written to excel sheet\")"
   ]
  },
  {
   "cell_type": "code",
   "execution_count": 69,
   "id": "a8253164",
   "metadata": {},
   "outputs": [
    {
     "name": "stdout",
     "output_type": "stream",
     "text": [
      "   product_name     price\n",
      "0             1  Computer\n",
      "1             2   Printer\n",
      "2             3    Tablet\n",
      "3             4      Desk\n",
      "4             5     Chair\n"
     ]
    }
   ],
   "source": [
    "import pandas as pd\n",
    "import sqlite3\n",
    "conn = sqlite3.connect('testdb.db') \n",
    "c = conn.cursor()\n",
    "c.execute('''\n",
    "          CREATE TABLE IF NOT EXISTS items\n",
    "          ([product_id] INTEGER PRIMARY KEY, [product_name] TEXT)\n",
    "          ''')\n",
    "c.execute('''\n",
    "          INSERT INTO items (product_id, product_name)\n",
    "\n",
    "                VALUES\n",
    "                (1,'Computer'),\n",
    "                (2,'Printer'),\n",
    "                (3,'Tablet'),\n",
    "                (4,'Desk'),\n",
    "                (5,'Chair')\n",
    "          ''')\n",
    "c.execute('''\n",
    "          SELECT\n",
    "          * from\n",
    "          items\n",
    "          ''')\n",
    "df = pd.DataFrame(c.fetchall(), columns=['product_name','price'])\n",
    "print (df)"
   ]
  },
  {
   "cell_type": "code",
   "execution_count": 90,
   "id": "ffe8676b",
   "metadata": {},
   "outputs": [
    {
     "name": "stdout",
     "output_type": "stream",
     "text": [
      "   productID product_name   price\n",
      "0          1     Computer  100000\n",
      "1          2      Printer    5000\n",
      "2          3       Tablet   10000\n",
      "3          4         Desk    8000\n",
      "4          5        Chair    5000\n"
     ]
    }
   ],
   "source": [
    "import pandas as pd\n",
    "import sqlite3\n",
    "conn = sqlite3.connect('testdb6.db') \n",
    "c = conn.cursor()\n",
    "c.execute('''\n",
    "          CREATE TABLE IF NOT EXISTS items\n",
    "          ([product_id] INTEGER PRIMARY KEY, [product_name] TEXT,[price] INTEGER)\n",
    "          ''')\n",
    "c.execute('''\n",
    "          INSERT INTO items (product_id, product_name, price)\n",
    "\n",
    "                VALUES\n",
    "                (1,'Computer',50000),\n",
    "                (2,'Printer',5000),\n",
    "                (3,'Tablet',10000),\n",
    "                (4,'Desk',8000),\n",
    "                (5,'Chair',5000)\n",
    "          ''')\n",
    "c.execute('''\n",
    "          UPDATE items set price=100000 where price=50000\n",
    "          ''')\n",
    "c.execute('''\n",
    "          SELECT\n",
    "          * from\n",
    "          items\n",
    "          ''')\n",
    "df = pd.DataFrame(c.fetchall(),columns=[\"productID\",'product_name','price'])\n",
    "print (df)"
   ]
  },
  {
   "cell_type": "code",
   "execution_count": 92,
   "id": "1e9e9aed",
   "metadata": {},
   "outputs": [
    {
     "name": "stdout",
     "output_type": "stream",
     "text": [
      "   productID product_name   price\n",
      "0          1     Computer  100000\n",
      "1          3       Tablet   10000\n",
      "2          4         Desk    8000\n"
     ]
    }
   ],
   "source": [
    "c.execute('''\n",
    "          DELETE from items  where price=5000\n",
    "          ''')\n",
    "c.execute('''\n",
    "          SELECT\n",
    "          * from\n",
    "          items\n",
    "          ''')\n",
    "df = pd.DataFrame(c.fetchall(),columns=[\"productID\",'product_name','price'])\n",
    "print (df)"
   ]
  },
  {
   "cell_type": "code",
   "execution_count": 96,
   "id": "a519085b",
   "metadata": {},
   "outputs": [
    {
     "name": "stdout",
     "output_type": "stream",
     "text": [
      "{'userId': 1, 'id': 1, 'title': 'delectus aut autem', 'completed': False}\n"
     ]
    }
   ],
   "source": [
    "import requests\n",
    "api_url = \"https://jsonplaceholder.typicode.com/todos/1\"\n",
    "res = requests.get(api_url)\n",
    "print(res.json())"
   ]
  },
  {
   "cell_type": "code",
   "execution_count": 101,
   "id": "2683bf7a",
   "metadata": {},
   "outputs": [
    {
     "name": "stdout",
     "output_type": "stream",
     "text": [
      "{'userId': 111, 'title': 'Buy milk', 'completed': False, 'id': 201}\n"
     ]
    }
   ],
   "source": [
    "api_url2 = \"https://jsonplaceholder.typicode.com/todos\"\n",
    "todo = {\"userId\": 111, \"title\": \"Buy milk\", \"completed\": False}\n",
    "response = requests.post(api_url2, json=todo)\n",
    "print(response.json())"
   ]
  },
  {
   "cell_type": "code",
   "execution_count": 107,
   "id": "6ae8f1ce",
   "metadata": {},
   "outputs": [
    {
     "data": {
      "text/plain": [
       "{'userId': 1,\n",
       " 'id': 10,\n",
       " 'title': 'illo est ratione doloremque quia maiores aut',\n",
       " 'completed': True}"
      ]
     },
     "execution_count": 107,
     "metadata": {},
     "output_type": "execute_result"
    }
   ],
   "source": [
    "import requests\n",
    "api_url = \"https://jsonplaceholder.typicode.com/todos/10\"\n",
    "response = requests.get(api_url)\n",
    "response.json()"
   ]
  },
  {
   "cell_type": "code",
   "execution_count": 110,
   "id": "eb7e84a1",
   "metadata": {},
   "outputs": [
    {
     "data": {
      "text/plain": [
       "{'userId': 1, 'title': 'Wash car', 'completed': True, 'id': 10}"
      ]
     },
     "execution_count": 110,
     "metadata": {},
     "output_type": "execute_result"
    }
   ],
   "source": [
    "api_url = \"https://jsonplaceholder.typicode.com/todos/10\"\n",
    "todo = {\"userId\": 1, \"title\": \"Wash car\", \"completed\": True}\n",
    "response = requests.put(api_url,json=todo)\n",
    "response.json()"
   ]
  },
  {
   "cell_type": "code",
   "execution_count": 111,
   "id": "e44fe779",
   "metadata": {},
   "outputs": [
    {
     "data": {
      "text/plain": [
       "{}"
      ]
     },
     "execution_count": 111,
     "metadata": {},
     "output_type": "execute_result"
    }
   ],
   "source": [
    "api_url = \"https://jsonplaceholder.typicode.com/todos/10\"\n",
    "response = requests.delete(api_url)\n",
    "response.json()"
   ]
  },
  {
   "cell_type": "code",
   "execution_count": 112,
   "id": "e6e0afaf",
   "metadata": {},
   "outputs": [
    {
     "ename": "NameError",
     "evalue": "name 'urllib3' is not defined",
     "output_type": "error",
     "traceback": [
      "\u001b[1;31m---------------------------------------------------------------------------\u001b[0m",
      "\u001b[1;31mNameError\u001b[0m                                 Traceback (most recent call last)",
      "\u001b[1;32m~\\AppData\\Local\\Temp\\ipykernel_7612\\716575684.py\u001b[0m in \u001b[0;36m<module>\u001b[1;34m\u001b[0m\n\u001b[1;32m----> 1\u001b[1;33m \u001b[0mhttp\u001b[0m \u001b[1;33m=\u001b[0m \u001b[0murllib3\u001b[0m\u001b[1;33m.\u001b[0m\u001b[0mPoolManager\u001b[0m\u001b[1;33m(\u001b[0m\u001b[1;33m)\u001b[0m\u001b[1;33m\u001b[0m\u001b[1;33m\u001b[0m\u001b[0m\n\u001b[0m\u001b[0;32m      2\u001b[0m \u001b[0mresponse\u001b[0m \u001b[1;33m=\u001b[0m \u001b[0mhttp\u001b[0m\u001b[1;33m.\u001b[0m\u001b[0mrequest\u001b[0m\u001b[1;33m(\u001b[0m\u001b[1;34m\"GET\"\u001b[0m\u001b[1;33m,\u001b[0m \u001b[1;34m\"http://jsonplaceholder.typicode.com/posts/\"\u001b[0m\u001b[1;33m)\u001b[0m\u001b[1;33m\u001b[0m\u001b[1;33m\u001b[0m\u001b[0m\n\u001b[0;32m      3\u001b[0m \u001b[0mprint\u001b[0m\u001b[1;33m(\u001b[0m\u001b[0mresponse\u001b[0m\u001b[1;33m.\u001b[0m\u001b[0mdata\u001b[0m\u001b[1;33m.\u001b[0m\u001b[0mdecode\u001b[0m\u001b[1;33m(\u001b[0m\u001b[1;34m\"utf-8\"\u001b[0m\u001b[1;33m)\u001b[0m\u001b[1;33m)\u001b[0m\u001b[1;33m\u001b[0m\u001b[1;33m\u001b[0m\u001b[0m\n",
      "\u001b[1;31mNameError\u001b[0m: name 'urllib3' is not defined"
     ]
    }
   ],
   "source": []
  },
  {
   "cell_type": "code",
   "execution_count": null,
   "id": "f741903e",
   "metadata": {},
   "outputs": [],
   "source": []
  }
 ],
 "metadata": {
  "kernelspec": {
   "display_name": "Python 3 (ipykernel)",
   "language": "python",
   "name": "python3"
  },
  "language_info": {
   "codemirror_mode": {
    "name": "ipython",
    "version": 3
   },
   "file_extension": ".py",
   "mimetype": "text/x-python",
   "name": "python",
   "nbconvert_exporter": "python",
   "pygments_lexer": "ipython3",
   "version": "3.9.13"
  }
 },
 "nbformat": 4,
 "nbformat_minor": 5
}
